{
 "cells": [
  {
   "cell_type": "code",
   "execution_count": 1,
   "metadata": {
    "slideshow": {
     "slide_type": "skip"
    }
   },
   "outputs": [
    {
     "name": "stderr",
     "output_type": "stream",
     "text": [
      "/home/bakirillov/anaconda3/envs/lapki/lib/python3.7/site-packages/statsmodels/tools/_testing.py:19: FutureWarning: pandas.util.testing is deprecated. Use the functions in the public API at pandas.testing instead.\n",
      "  import pandas.util.testing as tm\n"
     ]
    }
   ],
   "source": [
    "import json\n",
    "from misc import *\n",
    "import numpy as np\n",
    "import pandas as pd\n",
    "import statsmodels.api as sm\n",
    "import matplotlib.pyplot as plt\n",
    "from matplotlib.patches import Patch\n",
    "from statsmodels.formula.api import ols\n",
    "from statsmodels.stats.anova import anova_lm\n",
    "from statsmodels.multivariate.manova import MANOVA"
   ]
  },
  {
   "cell_type": "code",
   "execution_count": 2,
   "metadata": {
    "slideshow": {
     "slide_type": "skip"
    }
   },
   "outputs": [],
   "source": [
    "ages = pd.read_excel(\"../data/Age.xlsx\")"
   ]
  },
  {
   "cell_type": "code",
   "execution_count": 3,
   "metadata": {
    "slideshow": {
     "slide_type": "skip"
    }
   },
   "outputs": [],
   "source": [
    "new_ages = {\"participant\": [], \"age\": []}\n",
    "new_ages[\"participant\"].extend(ages[\"vlPFC numbers\"])\n",
    "new_ages[\"participant\"].extend(ages[\"sham numbers\"])\n",
    "new_ages[\"participant\"].extend(ages[\"dlPFC on numbers\"])\n",
    "new_ages[\"participant\"].extend(ages[\"dlPFC ooff numbers\"])\n",
    "new_ages[\"age\"].extend(ages[\"vlPFC age\"])\n",
    "new_ages[\"age\"].extend(ages[\"sham age\"])\n",
    "new_ages[\"age\"].extend(ages[\"dlPFC on age\"])\n",
    "new_ages[\"age\"].extend(ages[\"dlPFC off age\"])"
   ]
  },
  {
   "cell_type": "code",
   "execution_count": 4,
   "metadata": {
    "slideshow": {
     "slide_type": "skip"
    }
   },
   "outputs": [],
   "source": [
    "ages = pd.DataFrame(new_ages).dropna()"
   ]
  },
  {
   "cell_type": "code",
   "execution_count": 5,
   "metadata": {
    "slideshow": {
     "slide_type": "skip"
    }
   },
   "outputs": [],
   "source": [
    "ages[\"participant\"] = ages[\"participant\"].apply(int)"
   ]
  },
  {
   "cell_type": "code",
   "execution_count": 6,
   "metadata": {
    "slideshow": {
     "slide_type": "skip"
    }
   },
   "outputs": [],
   "source": [
    "ages.to_csv(\"../data/age.csv\")"
   ]
  },
  {
   "cell_type": "markdown",
   "metadata": {
    "slideshow": {
     "slide_type": "skip"
    }
   },
   "source": [
    "### Preprocessing for (M)AN(C)OVA"
   ]
  },
  {
   "cell_type": "code",
   "execution_count": 7,
   "metadata": {
    "slideshow": {
     "slide_type": "skip"
    }
   },
   "outputs": [],
   "source": [
    "fnames = [\n",
    "    \"sham_study.pkl\", \"vlPFC_study.pkl\", \"eon_study.pkl\", \"eoff_study.pkl\", \n",
    "    \"esham_study.pkl\", \"evlPFC_study.pkl\"\n",
    "]\n",
    "studies = []\n",
    "for a in fnames:\n",
    "    studies.append(\n",
    "        Study.load_from_file(a)\n",
    "    )"
   ]
  },
  {
   "cell_type": "code",
   "execution_count": 8,
   "metadata": {
    "slideshow": {
     "slide_type": "skip"
    }
   },
   "outputs": [],
   "source": [
    "df = pd.DataFrame(\n",
    "    {\n",
    "        \"group\": sum([[i]*len(a) for i,a in enumerate(studies)], []),\n",
    "        \"AUROC\": sum([a.compute_study_aucs() for a in studies], []),\n",
    "        \"hits\": sum(\n",
    "            [\n",
    "                [b[0] for b in a.compute_hits_and_FAs()] \n",
    "                for a in studies\n",
    "            ], []\n",
    "        ),\n",
    "        \"FAs\": sum(\n",
    "            [\n",
    "                [b[1] for b in a.compute_hits_and_FAs()] \n",
    "                for a in studies\n",
    "            ], []\n",
    "        ),\n",
    "        \"mean_RT\": sum(\n",
    "            [\n",
    "                [np.mean(b[1]) for b in a.get_participant_RT()] \n",
    "                for a in studies\n",
    "            ], []\n",
    "        ),\n",
    "        \"std_RT\": sum(\n",
    "            [\n",
    "                [np.std(b[1]) for b in a.get_participant_RT()] \n",
    "                for a in studies\n",
    "            ], []\n",
    "        ),\n",
    "        \"age\": sum(\n",
    "            [\n",
    "                [\n",
    "                    ages[\n",
    "                        ages[\"participant\"] == int(\n",
    "                            op.split(b)[-1].split(\"_\")[1]\n",
    "                        )\n",
    "                    ][\"age\"].values\n",
    "                    for b in a.fns\n",
    "                ] \n",
    "                for a in studies\n",
    "            ], []\n",
    "        )\n",
    "    }\n",
    ")"
   ]
  },
  {
   "cell_type": "code",
   "execution_count": 9,
   "metadata": {
    "slideshow": {
     "slide_type": "skip"
    }
   },
   "outputs": [],
   "source": [
    "df[\"d_prime\"] = df[\"hits\"] - df[\"FAs\"]"
   ]
  },
  {
   "cell_type": "code",
   "execution_count": 10,
   "metadata": {
    "slideshow": {
     "slide_type": "skip"
    }
   },
   "outputs": [],
   "source": [
    "df[\"age\"] = df[\"age\"].apply(lambda x: 0 if len(x) < 1 else x[0])"
   ]
  },
  {
   "cell_type": "code",
   "execution_count": 11,
   "metadata": {
    "slideshow": {
     "slide_type": "skip"
    }
   },
   "outputs": [],
   "source": [
    "df[\"hits_FAs_avg\"] = 1/2*(df[\"hits\"] + df[\"FAs\"])"
   ]
  },
  {
   "cell_type": "code",
   "execution_count": 12,
   "metadata": {
    "slideshow": {
     "slide_type": "skip"
    }
   },
   "outputs": [],
   "source": [
    "ru_df = df[df[\"group\"] < 4]\n",
    "en_df = df[df[\"group\"] >= 4]"
   ]
  },
  {
   "cell_type": "markdown",
   "metadata": {
    "slideshow": {
     "slide_type": "slide"
    }
   },
   "source": [
    "### ANOVA"
   ]
  },
  {
   "cell_type": "markdown",
   "metadata": {
    "slideshow": {
     "slide_type": "fragment"
    }
   },
   "source": [
    "I have recomputed one-way ANOVA for each accuracy measure (and reaction time).\n",
    "Next slide shows formulae for ANOVA, the one after that shows the results (DF for group and residual, F and PR(>F)) for all data, Russian sample and English sample."
   ]
  },
  {
   "cell_type": "code",
   "execution_count": 13,
   "metadata": {
    "slideshow": {
     "slide_type": "slide"
    }
   },
   "outputs": [],
   "source": [
    "ANOVA_formulae = [\n",
    "    \"AUROC ~ group\", \n",
    "    \"hits ~ group\", \n",
    "    \"FAs ~ group\", \n",
    "    \"mean_RT ~ group\", \n",
    "    \"d_prime ~ group\", \n",
    "]"
   ]
  },
  {
   "cell_type": "code",
   "execution_count": 14,
   "metadata": {
    "slideshow": {
     "slide_type": "skip"
    }
   },
   "outputs": [],
   "source": [
    "ANOVA_PRs_RU = [\n",
    "    anova_lm(ols(a, data=ru_df).fit()) for a in ANOVA_formulae\n",
    "]\n",
    "ANOVA_PRs_EN = [\n",
    "    anova_lm(ols(a, data=en_df).fit()) for a in ANOVA_formulae\n",
    "]\n",
    "ANOVA_PRs = [\n",
    "    anova_lm(ols(a, data=df).fit()) for a in ANOVA_formulae\n",
    "]"
   ]
  },
  {
   "cell_type": "code",
   "execution_count": 15,
   "metadata": {
    "slideshow": {
     "slide_type": "skip"
    }
   },
   "outputs": [],
   "source": [
    "ANOVA_output = pd.DataFrame(\n",
    "    {\n",
    "        \"All group DF\": [a.loc[\"group\"][\"df\"] for a in ANOVA_PRs],\n",
    "        \"All residual DF\": [a.loc[\"Residual\"][\"df\"] for a in ANOVA_PRs],\n",
    "        \"All F\": [a.loc[\"group\"][\"F\"] for a in ANOVA_PRs],\n",
    "        \"All PR(>F)\": [a.loc[\"group\"][\"PR(>F)\"] for a in ANOVA_PRs], \n",
    "        \"Russian group DF\": [a.loc[\"group\"][\"df\"] for a in ANOVA_PRs_RU],\n",
    "        \"Russian residual DF\": [a.loc[\"Residual\"][\"df\"] for a in ANOVA_PRs_RU],\n",
    "        \"Russian F\": [a.loc[\"group\"][\"F\"] for a in ANOVA_PRs_RU],\n",
    "        \"Russian PR(>F)\": [a.loc[\"group\"][\"PR(>F)\"] for a in ANOVA_PRs_RU],\n",
    "        \"English group DF\": [a.loc[\"group\"][\"df\"] for a in ANOVA_PRs_EN],\n",
    "        \"English residual DF\": [a.loc[\"Residual\"][\"df\"] for a in ANOVA_PRs_EN],\n",
    "        \"English F\": [a.loc[\"group\"][\"F\"] for a in ANOVA_PRs_EN],\n",
    "        \"English PR(>F)\": [a.loc[\"group\"][\"PR(>F)\"] for a in ANOVA_PRs_EN],  \n",
    "    }\n",
    ")\n",
    "ANOVA_output.index = [a.split(\" ~ \")[0] for a in ANOVA_formulae]"
   ]
  },
  {
   "cell_type": "code",
   "execution_count": 16,
   "metadata": {
    "slideshow": {
     "slide_type": "slide"
    }
   },
   "outputs": [
    {
     "data": {
      "text/html": [
       "<div>\n",
       "<style scoped>\n",
       "    .dataframe tbody tr th:only-of-type {\n",
       "        vertical-align: middle;\n",
       "    }\n",
       "\n",
       "    .dataframe tbody tr th {\n",
       "        vertical-align: top;\n",
       "    }\n",
       "\n",
       "    .dataframe thead th {\n",
       "        text-align: right;\n",
       "    }\n",
       "</style>\n",
       "<table border=\"1\" class=\"dataframe\">\n",
       "  <thead>\n",
       "    <tr style=\"text-align: right;\">\n",
       "      <th></th>\n",
       "      <th>AUROC</th>\n",
       "      <th>hits</th>\n",
       "      <th>FAs</th>\n",
       "      <th>mean_RT</th>\n",
       "      <th>d_prime</th>\n",
       "    </tr>\n",
       "  </thead>\n",
       "  <tbody>\n",
       "    <tr>\n",
       "      <th>All group DF</th>\n",
       "      <td>1.000000</td>\n",
       "      <td>1.000000</td>\n",
       "      <td>1.000000</td>\n",
       "      <td>1.000000</td>\n",
       "      <td>1.000000</td>\n",
       "    </tr>\n",
       "    <tr>\n",
       "      <th>All residual DF</th>\n",
       "      <td>135.000000</td>\n",
       "      <td>135.000000</td>\n",
       "      <td>135.000000</td>\n",
       "      <td>135.000000</td>\n",
       "      <td>135.000000</td>\n",
       "    </tr>\n",
       "    <tr>\n",
       "      <th>All F</th>\n",
       "      <td>5.150597</td>\n",
       "      <td>1.638793</td>\n",
       "      <td>0.648791</td>\n",
       "      <td>17.545795</td>\n",
       "      <td>0.619711</td>\n",
       "    </tr>\n",
       "    <tr>\n",
       "      <th>All PR(&gt;F)</th>\n",
       "      <td>0.024824</td>\n",
       "      <td>0.202687</td>\n",
       "      <td>0.421962</td>\n",
       "      <td>0.000050</td>\n",
       "      <td>0.432535</td>\n",
       "    </tr>\n",
       "    <tr>\n",
       "      <th>Russian group DF</th>\n",
       "      <td>1.000000</td>\n",
       "      <td>1.000000</td>\n",
       "      <td>1.000000</td>\n",
       "      <td>1.000000</td>\n",
       "      <td>1.000000</td>\n",
       "    </tr>\n",
       "    <tr>\n",
       "      <th>Russian residual DF</th>\n",
       "      <td>101.000000</td>\n",
       "      <td>101.000000</td>\n",
       "      <td>101.000000</td>\n",
       "      <td>101.000000</td>\n",
       "      <td>101.000000</td>\n",
       "    </tr>\n",
       "    <tr>\n",
       "      <th>Russian F</th>\n",
       "      <td>1.483391</td>\n",
       "      <td>4.741309</td>\n",
       "      <td>0.015516</td>\n",
       "      <td>0.051098</td>\n",
       "      <td>6.049555</td>\n",
       "    </tr>\n",
       "    <tr>\n",
       "      <th>Russian PR(&gt;F)</th>\n",
       "      <td>0.226082</td>\n",
       "      <td>0.031775</td>\n",
       "      <td>0.901118</td>\n",
       "      <td>0.821620</td>\n",
       "      <td>0.015609</td>\n",
       "    </tr>\n",
       "    <tr>\n",
       "      <th>English group DF</th>\n",
       "      <td>1.000000</td>\n",
       "      <td>1.000000</td>\n",
       "      <td>1.000000</td>\n",
       "      <td>1.000000</td>\n",
       "      <td>1.000000</td>\n",
       "    </tr>\n",
       "    <tr>\n",
       "      <th>English residual DF</th>\n",
       "      <td>32.000000</td>\n",
       "      <td>32.000000</td>\n",
       "      <td>32.000000</td>\n",
       "      <td>32.000000</td>\n",
       "      <td>32.000000</td>\n",
       "    </tr>\n",
       "    <tr>\n",
       "      <th>English F</th>\n",
       "      <td>0.972211</td>\n",
       "      <td>0.585357</td>\n",
       "      <td>4.347254</td>\n",
       "      <td>7.719170</td>\n",
       "      <td>0.186685</td>\n",
       "    </tr>\n",
       "    <tr>\n",
       "      <th>English PR(&gt;F)</th>\n",
       "      <td>0.331526</td>\n",
       "      <td>0.449826</td>\n",
       "      <td>0.045131</td>\n",
       "      <td>0.009065</td>\n",
       "      <td>0.668588</td>\n",
       "    </tr>\n",
       "  </tbody>\n",
       "</table>\n",
       "</div>"
      ],
      "text/plain": [
       "                          AUROC        hits         FAs     mean_RT  \\\n",
       "All group DF           1.000000    1.000000    1.000000    1.000000   \n",
       "All residual DF      135.000000  135.000000  135.000000  135.000000   \n",
       "All F                  5.150597    1.638793    0.648791   17.545795   \n",
       "All PR(>F)             0.024824    0.202687    0.421962    0.000050   \n",
       "Russian group DF       1.000000    1.000000    1.000000    1.000000   \n",
       "Russian residual DF  101.000000  101.000000  101.000000  101.000000   \n",
       "Russian F              1.483391    4.741309    0.015516    0.051098   \n",
       "Russian PR(>F)         0.226082    0.031775    0.901118    0.821620   \n",
       "English group DF       1.000000    1.000000    1.000000    1.000000   \n",
       "English residual DF   32.000000   32.000000   32.000000   32.000000   \n",
       "English F              0.972211    0.585357    4.347254    7.719170   \n",
       "English PR(>F)         0.331526    0.449826    0.045131    0.009065   \n",
       "\n",
       "                        d_prime  \n",
       "All group DF           1.000000  \n",
       "All residual DF      135.000000  \n",
       "All F                  0.619711  \n",
       "All PR(>F)             0.432535  \n",
       "Russian group DF       1.000000  \n",
       "Russian residual DF  101.000000  \n",
       "Russian F              6.049555  \n",
       "Russian PR(>F)         0.015609  \n",
       "English group DF       1.000000  \n",
       "English residual DF   32.000000  \n",
       "English F              0.186685  \n",
       "English PR(>F)         0.668588  "
      ]
     },
     "execution_count": 16,
     "metadata": {},
     "output_type": "execute_result"
    }
   ],
   "source": [
    "ANOVA_output.T"
   ]
  },
  {
   "cell_type": "markdown",
   "metadata": {
    "slideshow": {
     "slide_type": "slide"
    }
   },
   "source": [
    "### ANCOVA"
   ]
  },
  {
   "cell_type": "markdown",
   "metadata": {
    "slideshow": {
     "slide_type": "fragment"
    }
   },
   "source": [
    "I have computed one-way ANCOVA for each accuracy measure (and reaction time).\n",
    "Next slide shows formulae for ANCOVA, the one after that shows the results (DF for group and residual, F and PR(>F)) for aRussian sample only since I have no age data for English sample."
   ]
  },
  {
   "cell_type": "code",
   "execution_count": 17,
   "metadata": {
    "slideshow": {
     "slide_type": "slide"
    }
   },
   "outputs": [],
   "source": [
    "ANCOVA_formulae = [\n",
    "    \"AUROC ~ C(group) + age\", \n",
    "    \"hits ~ C(group) + age\", \n",
    "    \"FAs ~ C(group) + age\", \n",
    "    \"mean_RT ~ C(group) + age\", \n",
    "    \"d_prime ~ C(group) + age\", \n",
    "]"
   ]
  },
  {
   "cell_type": "code",
   "execution_count": 18,
   "metadata": {
    "slideshow": {
     "slide_type": "skip"
    }
   },
   "outputs": [],
   "source": [
    "ANCOVA_PRs_RU = [\n",
    "    anova_lm(ols(a, data=ru_df).fit()) for a in ANCOVA_formulae\n",
    "]"
   ]
  },
  {
   "cell_type": "code",
   "execution_count": 19,
   "metadata": {
    "slideshow": {
     "slide_type": "skip"
    }
   },
   "outputs": [],
   "source": [
    "ANCOVA_output = pd.DataFrame(\n",
    "    {\n",
    "        \"Russian group DF\": [a.loc[\"C(group)\"][\"df\"] for a in ANCOVA_PRs_RU],\n",
    "        \"Russian age DF\": [a.loc[\"age\"][\"df\"] for a in ANCOVA_PRs_RU],\n",
    "        \"Russian residual DF\": [a.loc[\"Residual\"][\"df\"] for a in ANCOVA_PRs_RU],\n",
    "        \"Russian group F\": [a.loc[\"C(group)\"][\"F\"] for a in ANCOVA_PRs_RU],\n",
    "        \"Russian age F\": [a.loc[\"age\"][\"F\"] for a in ANCOVA_PRs_RU],\n",
    "        \"Russian group PR(>F)\": [a.loc[\"C(group)\"][\"PR(>F)\"] for a in ANCOVA_PRs_RU],\n",
    "        \"Russian age\": [a.loc[\"age\"][\"PR(>F)\"] for a in ANCOVA_PRs_RU], \n",
    "    }\n",
    ")\n",
    "ANCOVA_output.index = [a.split(\" ~ \")[0] for a in ANCOVA_formulae]"
   ]
  },
  {
   "cell_type": "code",
   "execution_count": 20,
   "metadata": {
    "slideshow": {
     "slide_type": "slide"
    }
   },
   "outputs": [
    {
     "data": {
      "text/html": [
       "<div>\n",
       "<style scoped>\n",
       "    .dataframe tbody tr th:only-of-type {\n",
       "        vertical-align: middle;\n",
       "    }\n",
       "\n",
       "    .dataframe tbody tr th {\n",
       "        vertical-align: top;\n",
       "    }\n",
       "\n",
       "    .dataframe thead th {\n",
       "        text-align: right;\n",
       "    }\n",
       "</style>\n",
       "<table border=\"1\" class=\"dataframe\">\n",
       "  <thead>\n",
       "    <tr style=\"text-align: right;\">\n",
       "      <th></th>\n",
       "      <th>AUROC</th>\n",
       "      <th>hits</th>\n",
       "      <th>FAs</th>\n",
       "      <th>mean_RT</th>\n",
       "      <th>d_prime</th>\n",
       "    </tr>\n",
       "  </thead>\n",
       "  <tbody>\n",
       "    <tr>\n",
       "      <th>Russian group DF</th>\n",
       "      <td>3.000000</td>\n",
       "      <td>3.000000</td>\n",
       "      <td>3.000000</td>\n",
       "      <td>3.000000</td>\n",
       "      <td>3.000000</td>\n",
       "    </tr>\n",
       "    <tr>\n",
       "      <th>Russian age DF</th>\n",
       "      <td>1.000000</td>\n",
       "      <td>1.000000</td>\n",
       "      <td>1.000000</td>\n",
       "      <td>1.000000</td>\n",
       "      <td>1.000000</td>\n",
       "    </tr>\n",
       "    <tr>\n",
       "      <th>Russian residual DF</th>\n",
       "      <td>98.000000</td>\n",
       "      <td>98.000000</td>\n",
       "      <td>98.000000</td>\n",
       "      <td>98.000000</td>\n",
       "      <td>98.000000</td>\n",
       "    </tr>\n",
       "    <tr>\n",
       "      <th>Russian group F</th>\n",
       "      <td>0.596920</td>\n",
       "      <td>1.742169</td>\n",
       "      <td>0.032450</td>\n",
       "      <td>0.696055</td>\n",
       "      <td>2.162573</td>\n",
       "    </tr>\n",
       "    <tr>\n",
       "      <th>Russian age F</th>\n",
       "      <td>0.515703</td>\n",
       "      <td>3.274961</td>\n",
       "      <td>3.823079</td>\n",
       "      <td>0.609771</td>\n",
       "      <td>0.180281</td>\n",
       "    </tr>\n",
       "    <tr>\n",
       "      <th>Russian group PR(&gt;F)</th>\n",
       "      <td>0.618511</td>\n",
       "      <td>0.163382</td>\n",
       "      <td>0.992101</td>\n",
       "      <td>0.556639</td>\n",
       "      <td>0.097304</td>\n",
       "    </tr>\n",
       "    <tr>\n",
       "      <th>Russian age</th>\n",
       "      <td>0.474389</td>\n",
       "      <td>0.073410</td>\n",
       "      <td>0.053400</td>\n",
       "      <td>0.436756</td>\n",
       "      <td>0.672062</td>\n",
       "    </tr>\n",
       "  </tbody>\n",
       "</table>\n",
       "</div>"
      ],
      "text/plain": [
       "                          AUROC       hits        FAs    mean_RT    d_prime\n",
       "Russian group DF       3.000000   3.000000   3.000000   3.000000   3.000000\n",
       "Russian age DF         1.000000   1.000000   1.000000   1.000000   1.000000\n",
       "Russian residual DF   98.000000  98.000000  98.000000  98.000000  98.000000\n",
       "Russian group F        0.596920   1.742169   0.032450   0.696055   2.162573\n",
       "Russian age F          0.515703   3.274961   3.823079   0.609771   0.180281\n",
       "Russian group PR(>F)   0.618511   0.163382   0.992101   0.556639   0.097304\n",
       "Russian age            0.474389   0.073410   0.053400   0.436756   0.672062"
      ]
     },
     "execution_count": 20,
     "metadata": {},
     "output_type": "execute_result"
    }
   ],
   "source": [
    "ANCOVA_output.T"
   ]
  },
  {
   "cell_type": "markdown",
   "metadata": {
    "slideshow": {
     "slide_type": "slide"
    }
   },
   "source": [
    "### MANOVA"
   ]
  },
  {
   "cell_type": "markdown",
   "metadata": {
    "slideshow": {
     "slide_type": "fragment"
    }
   },
   "source": [
    "I have computed one-way MANOVA for each accuracy measure (and reaction time).\n",
    "Next slide shows a formula for MANOVA, three last slides show the results for different MANOVA measures (Wilks lambda, Pillai's trace, Hotelling-Lawley trace and Roy's greatest root)."
   ]
  },
  {
   "cell_type": "code",
   "execution_count": 21,
   "metadata": {
    "slideshow": {
     "slide_type": "slide"
    }
   },
   "outputs": [],
   "source": [
    "MANOVA_formulae = [\n",
    "    \"AUROC + hits + FAs + mean_RT + d_prime ~ C(group)\", \n",
    "]"
   ]
  },
  {
   "cell_type": "code",
   "execution_count": 22,
   "metadata": {
    "slideshow": {
     "slide_type": "skip"
    }
   },
   "outputs": [],
   "source": [
    "MANOVA_PRs_RU = [\n",
    "    MANOVA.from_formula(a, data=ru_df).mv_test().summary() for a in MANOVA_formulae\n",
    "]\n",
    "MANOVA_PRs_EN = [\n",
    "    MANOVA.from_formula(a, data=en_df).mv_test().summary() for a in MANOVA_formulae\n",
    "]\n",
    "MANOVA_PRs = [\n",
    "    MANOVA.from_formula(a, data=df).mv_test().summary() for a in MANOVA_formulae\n",
    "]"
   ]
  },
  {
   "cell_type": "code",
   "execution_count": 23,
   "metadata": {
    "slideshow": {
     "slide_type": "slide"
    }
   },
   "outputs": [
    {
     "data": {
      "text/html": [
       "<table class=\"simpletable\">\n",
       "<tr>\n",
       "  <td></td> <td></td> <td></td> <td></td>\n",
       "</tr>\n",
       "</table>\n",
       "<table class=\"simpletable\">\n",
       "<tr>\n",
       "  <td></td>        <th>Intercept</th>        <th>Value</th>  <th>Num DF</th>  <th>Den DF</th>   <th>F Value</th>  <th>Pr > F</th>\n",
       "</tr>\n",
       "<tr>\n",
       "  <th></th>      <td>Wilks' lambda</td>     <td>0.0249</td>  <td>4.0000</td> <td>128.0000</td> <td>1253.9272</td> <td>0.0000</td>\n",
       "</tr>\n",
       "<tr>\n",
       "  <th></th>     <td>Pillai's trace</td>     <td>1.0411</td>  <td>4.0000</td> <td>128.0000</td> <td>-810.5501</td> <td>1.0000</td>\n",
       "</tr>\n",
       "<tr>\n",
       "  <th></th> <td>Hotelling-Lawley trace</td> <td>36.5335</td> <td>4.0000</td> <td>128.0000</td> <td>1169.0730</td> <td>0.0000</td>\n",
       "</tr>\n",
       "<tr>\n",
       "  <th></th>   <td>Roy's greatest root</td>  <td>36.4608</td> <td>4.0000</td> <td>128.0000</td> <td>1166.7457</td> <td>0.0000</td>\n",
       "</tr>\n",
       "</table>\n",
       "<table class=\"simpletable\">\n",
       "<tr>\n",
       "  <td></td> <td></td> <td></td> <td></td>\n",
       "</tr>\n",
       "</table>\n",
       "<table class=\"simpletable\">\n",
       "<tr>\n",
       "  <td></td>        <th>C(group)</th>         <th>Value</th> <th>Num DF</th>   <th>Den DF</th>  <th>F Value</th> <th>Pr > F</th>\n",
       "</tr>\n",
       "<tr>\n",
       "  <th></th>      <td>Wilks' lambda</td>     <td>0.6699</td> <td>20.0000</td> <td>425.4778</td> <td>2.7310</td>  <td>0.0001</td>\n",
       "</tr>\n",
       "<tr>\n",
       "  <th></th>     <td>Pillai's trace</td>     <td>0.3566</td> <td>20.0000</td> <td>524.0000</td> <td>2.5644</td>  <td>0.0002</td>\n",
       "</tr>\n",
       "<tr>\n",
       "  <th></th> <td>Hotelling-Lawley trace</td> <td>0.4537</td> <td>20.0000</td> <td>274.2465</td> <td>2.8792</td>  <td>0.0001</td>\n",
       "</tr>\n",
       "<tr>\n",
       "  <th></th>   <td>Roy's greatest root</td>  <td>0.3486</td> <td>5.0000</td>  <td>131.0000</td> <td>9.1324</td>  <td>0.0000</td>\n",
       "</tr>\n",
       "</table>"
      ],
      "text/plain": [
       "<class 'statsmodels.iolib.summary2.Summary'>\n",
       "\"\"\"\n",
       "                   Multivariate linear model\n",
       "================================================================\n",
       "                                                                \n",
       "----------------------------------------------------------------\n",
       "       Intercept         Value  Num DF  Den DF   F Value  Pr > F\n",
       "----------------------------------------------------------------\n",
       "          Wilks' lambda  0.0249 4.0000 128.0000 1253.9272 0.0000\n",
       "         Pillai's trace  1.0411 4.0000 128.0000 -810.5501 1.0000\n",
       " Hotelling-Lawley trace 36.5335 4.0000 128.0000 1169.0730 0.0000\n",
       "    Roy's greatest root 36.4608 4.0000 128.0000 1166.7457 0.0000\n",
       "----------------------------------------------------------------\n",
       "                                                                \n",
       "----------------------------------------------------------------\n",
       "          C(group)        Value   Num DF  Den DF  F Value Pr > F\n",
       "----------------------------------------------------------------\n",
       "            Wilks' lambda 0.6699 20.0000 425.4778  2.7310 0.0001\n",
       "           Pillai's trace 0.3566 20.0000 524.0000  2.5644 0.0002\n",
       "   Hotelling-Lawley trace 0.4537 20.0000 274.2465  2.8792 0.0001\n",
       "      Roy's greatest root 0.3486  5.0000 131.0000  9.1324 0.0000\n",
       "================================================================\n",
       "\n",
       "\"\"\""
      ]
     },
     "execution_count": 23,
     "metadata": {},
     "output_type": "execute_result"
    }
   ],
   "source": [
    "MANOVA_PRs[0]"
   ]
  },
  {
   "cell_type": "code",
   "execution_count": 24,
   "metadata": {
    "slideshow": {
     "slide_type": "slide"
    }
   },
   "outputs": [
    {
     "data": {
      "text/html": [
       "<table class=\"simpletable\">\n",
       "<tr>\n",
       "  <td></td> <td></td> <td></td> <td></td>\n",
       "</tr>\n",
       "</table>\n",
       "<table class=\"simpletable\">\n",
       "<tr>\n",
       "  <td></td>        <th>Intercept</th>        <th>Value</th>  <th>Num DF</th> <th>Den DF</th>   <th>F Value</th>  <th>Pr > F</th>\n",
       "</tr>\n",
       "<tr>\n",
       "  <th></th>      <td>Wilks' lambda</td>     <td>0.0183</td>  <td>4.0000</td> <td>96.0000</td> <td>1286.9284</td> <td>0.0000</td>\n",
       "</tr>\n",
       "<tr>\n",
       "  <th></th>     <td>Pillai's trace</td>     <td>0.9817</td>  <td>4.0000</td> <td>96.0000</td> <td>1286.9284</td> <td>0.0000</td>\n",
       "</tr>\n",
       "<tr>\n",
       "  <th></th> <td>Hotelling-Lawley trace</td> <td>53.6220</td> <td>4.0000</td> <td>96.0000</td> <td>1286.9284</td> <td>0.0000</td>\n",
       "</tr>\n",
       "<tr>\n",
       "  <th></th>   <td>Roy's greatest root</td>  <td>53.6220</td> <td>4.0000</td> <td>96.0000</td> <td>1286.9284</td> <td>0.0000</td>\n",
       "</tr>\n",
       "</table>\n",
       "<table class=\"simpletable\">\n",
       "<tr>\n",
       "  <td></td> <td></td> <td></td> <td></td>\n",
       "</tr>\n",
       "</table>\n",
       "<table class=\"simpletable\">\n",
       "<tr>\n",
       "  <td></td>        <th>C(group)</th>         <th>Value</th> <th>Num DF</th>   <th>Den DF</th>  <th>F Value</th> <th>Pr > F</th>\n",
       "</tr>\n",
       "<tr>\n",
       "  <th></th>      <td>Wilks' lambda</td>     <td>0.8396</td> <td>12.0000</td> <td>254.2836</td> <td>1.4480</td>  <td>0.1446</td>\n",
       "</tr>\n",
       "<tr>\n",
       "  <th></th>     <td>Pillai's trace</td>     <td>0.1663</td> <td>12.0000</td> <td>294.0000</td> <td>1.4378</td>  <td>0.1478</td>\n",
       "</tr>\n",
       "<tr>\n",
       "  <th></th> <td>Hotelling-Lawley trace</td> <td>0.1842</td> <td>12.0000</td> <td>163.7389</td> <td>1.4607</td>  <td>0.1439</td>\n",
       "</tr>\n",
       "<tr>\n",
       "  <th></th>   <td>Roy's greatest root</td>  <td>0.1367</td> <td>4.0000</td>   <td>98.0000</td> <td>3.3497</td>  <td>0.0129</td>\n",
       "</tr>\n",
       "</table>"
      ],
      "text/plain": [
       "<class 'statsmodels.iolib.summary2.Summary'>\n",
       "\"\"\"\n",
       "                   Multivariate linear model\n",
       "===============================================================\n",
       "                                                               \n",
       "---------------------------------------------------------------\n",
       "       Intercept         Value  Num DF  Den DF  F Value  Pr > F\n",
       "---------------------------------------------------------------\n",
       "          Wilks' lambda  0.0183 4.0000 96.0000 1286.9284 0.0000\n",
       "         Pillai's trace  0.9817 4.0000 96.0000 1286.9284 0.0000\n",
       " Hotelling-Lawley trace 53.6220 4.0000 96.0000 1286.9284 0.0000\n",
       "    Roy's greatest root 53.6220 4.0000 96.0000 1286.9284 0.0000\n",
       "---------------------------------------------------------------\n",
       "                                                               \n",
       "---------------------------------------------------------------\n",
       "         C(group)        Value   Num DF  Den DF  F Value Pr > F\n",
       "---------------------------------------------------------------\n",
       "           Wilks' lambda 0.8396 12.0000 254.2836  1.4480 0.1446\n",
       "          Pillai's trace 0.1663 12.0000 294.0000  1.4378 0.1478\n",
       "  Hotelling-Lawley trace 0.1842 12.0000 163.7389  1.4607 0.1439\n",
       "     Roy's greatest root 0.1367  4.0000  98.0000  3.3497 0.0129\n",
       "===============================================================\n",
       "\n",
       "\"\"\""
      ]
     },
     "execution_count": 24,
     "metadata": {},
     "output_type": "execute_result"
    }
   ],
   "source": [
    "MANOVA_PRs_RU[0]"
   ]
  },
  {
   "cell_type": "code",
   "execution_count": 25,
   "metadata": {
    "slideshow": {
     "slide_type": "slide"
    }
   },
   "outputs": [
    {
     "data": {
      "text/html": [
       "<table class=\"simpletable\">\n",
       "<tr>\n",
       "  <td></td> <td></td> <td></td> <td></td>\n",
       "</tr>\n",
       "</table>\n",
       "<table class=\"simpletable\">\n",
       "<tr>\n",
       "  <td></td>        <th>Intercept</th>         <th>Value</th>  <th>Num DF</th> <th>Den DF</th>   <th>F Value</th>  <th>Pr > F</th>\n",
       "</tr>\n",
       "<tr>\n",
       "  <th></th>      <td>Wilks' lambda</td>      <td>0.0066</td>  <td>4.0000</td> <td>29.0000</td> <td>1084.6073</td> <td>0.0000</td>\n",
       "</tr>\n",
       "<tr>\n",
       "  <th></th>     <td>Pillai's trace</td>      <td>1.2137</td>  <td>4.0000</td> <td>29.0000</td> <td>-41.1784</td>  <td>1.0000</td>\n",
       "</tr>\n",
       "<tr>\n",
       "  <th></th> <td>Hotelling-Lawley trace</td> <td>116.4198</td> <td>4.0000</td> <td>29.0000</td> <td>844.0438</td>  <td>0.0000</td>\n",
       "</tr>\n",
       "<tr>\n",
       "  <th></th>   <td>Roy's greatest root</td>  <td>116.1341</td> <td>4.0000</td> <td>29.0000</td> <td>841.9724</td>  <td>0.0000</td>\n",
       "</tr>\n",
       "</table>\n",
       "<table class=\"simpletable\">\n",
       "<tr>\n",
       "  <td></td> <td></td> <td></td> <td></td>\n",
       "</tr>\n",
       "</table>\n",
       "<table class=\"simpletable\">\n",
       "<tr>\n",
       "  <td></td>        <th>C(group)</th>         <th>Value</th> <th>Num DF</th> <th>Den DF</th>  <th>F Value</th> <th>Pr > F</th>\n",
       "</tr>\n",
       "<tr>\n",
       "  <th></th>      <td>Wilks' lambda</td>     <td>0.6691</td> <td>4.0000</td> <td>29.0000</td> <td>3.5857</td>  <td>0.0171</td>\n",
       "</tr>\n",
       "<tr>\n",
       "  <th></th>     <td>Pillai's trace</td>     <td>0.3309</td> <td>4.0000</td> <td>29.0000</td> <td>3.5857</td>  <td>0.0171</td>\n",
       "</tr>\n",
       "<tr>\n",
       "  <th></th> <td>Hotelling-Lawley trace</td> <td>0.4946</td> <td>4.0000</td> <td>29.0000</td> <td>3.5857</td>  <td>0.0171</td>\n",
       "</tr>\n",
       "<tr>\n",
       "  <th></th>   <td>Roy's greatest root</td>  <td>0.4946</td> <td>4.0000</td> <td>29.0000</td> <td>3.5857</td>  <td>0.0171</td>\n",
       "</tr>\n",
       "</table>"
      ],
      "text/plain": [
       "<class 'statsmodels.iolib.summary2.Summary'>\n",
       "\"\"\"\n",
       "                   Multivariate linear model\n",
       "================================================================\n",
       "                                                                \n",
       "----------------------------------------------------------------\n",
       "       Intercept         Value   Num DF  Den DF  F Value  Pr > F\n",
       "----------------------------------------------------------------\n",
       "          Wilks' lambda   0.0066 4.0000 29.0000 1084.6073 0.0000\n",
       "         Pillai's trace   1.2137 4.0000 29.0000  -41.1784 1.0000\n",
       " Hotelling-Lawley trace 116.4198 4.0000 29.0000  844.0438 0.0000\n",
       "    Roy's greatest root 116.1341 4.0000 29.0000  841.9724 0.0000\n",
       "----------------------------------------------------------------\n",
       "                                                                \n",
       "----------------------------------------------------------------\n",
       "            C(group)        Value  Num DF  Den DF F Value Pr > F\n",
       "----------------------------------------------------------------\n",
       "              Wilks' lambda 0.6691 4.0000 29.0000  3.5857 0.0171\n",
       "             Pillai's trace 0.3309 4.0000 29.0000  3.5857 0.0171\n",
       "     Hotelling-Lawley trace 0.4946 4.0000 29.0000  3.5857 0.0171\n",
       "        Roy's greatest root 0.4946 4.0000 29.0000  3.5857 0.0171\n",
       "================================================================\n",
       "\n",
       "\"\"\""
      ]
     },
     "execution_count": 25,
     "metadata": {},
     "output_type": "execute_result"
    }
   ],
   "source": [
    "MANOVA_PRs_EN[0]"
   ]
  }
 ],
 "metadata": {
  "celltoolbar": "Slideshow",
  "kernelspec": {
   "display_name": "Python 3",
   "language": "python",
   "name": "python3"
  },
  "language_info": {
   "codemirror_mode": {
    "name": "ipython",
    "version": 3
   },
   "file_extension": ".py",
   "mimetype": "text/x-python",
   "name": "python",
   "nbconvert_exporter": "python",
   "pygments_lexer": "ipython3",
   "version": "3.7.5"
  }
 },
 "nbformat": 4,
 "nbformat_minor": 2
}
