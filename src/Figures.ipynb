{
 "cells": [
  {
   "cell_type": "code",
   "execution_count": 1,
   "metadata": {},
   "outputs": [],
   "source": [
    "import re\n",
    "import os\n",
    "from misc import *\n",
    "import numpy as np\n",
    "import pandas as pd\n",
    "import pickle as pkl\n",
    "import os.path as op\n",
    "from tqdm import tqdm\n",
    "from copy import deepcopy\n",
    "import matplotlib.pyplot as plt\n",
    "from matplotlib.patches import Patch\n",
    "from scipy.stats import ks_2samp, median_test\n",
    "from sklearn.metrics import roc_auc_score, roc_curve\n",
    "from scipy.stats import spearmanr, pearsonr, ks_2samp, chisquare, levene"
   ]
  },
  {
   "cell_type": "code",
   "execution_count": 2,
   "metadata": {},
   "outputs": [],
   "source": [
    "SHAM = \"../data/sham_no stimulation/\"\n",
    "vlPFC = \"../data/vlPFC_stimulation/\"\n",
    "enc_on = \"../data/enc_on_new/\"\n",
    "enc_off = \"../data/enc_off_new/\"\n",
    "eng_sham = \"../data/Eng_sham/\"\n",
    "eng_vlPFC = \"../data/Eng_vlPFC/\""
   ]
  },
  {
   "cell_type": "code",
   "execution_count": 3,
   "metadata": {},
   "outputs": [],
   "source": [
    "get_files = lambda x: [op.join(x, b) for b in [a for a in os.walk(x)][0][2]]"
   ]
  },
  {
   "cell_type": "code",
   "execution_count": 4,
   "metadata": {},
   "outputs": [],
   "source": [
    "sham_study = sum([Study.load_from_file(a) for a in get_files(SHAM)])\n",
    "vlPFC_study = sum([Study.load_from_file(a) for a in get_files(vlPFC)])\n",
    "eon_study = sum([Study.load_from_file(a) for a in get_files(enc_on)])\n",
    "eoff_study = sum([Study.load_from_file(a) for a in get_files(enc_off)])\n",
    "esham_study = sum([Study.load_from_file(a) for a in get_files(eng_sham)])\n",
    "evlPFC_study = sum([Study.load_from_file(a) for a in get_files(eng_vlPFC)])"
   ]
  },
  {
   "cell_type": "code",
   "execution_count": 5,
   "metadata": {},
   "outputs": [
    {
     "data": {
      "text/plain": [
       "(29, 27)"
      ]
     },
     "execution_count": 5,
     "metadata": {},
     "output_type": "execute_result"
    }
   ],
   "source": [
    "len(sham_study), len(vlPFC_study)"
   ]
  },
  {
   "cell_type": "code",
   "execution_count": 6,
   "metadata": {},
   "outputs": [],
   "source": [
    "sham_exclude = [\n",
    "    \"tDCS3_101_test.xlsx\", \"tDCS3_103_test.xlsx\", \"tDCS3_132_test.xlsx\", \n",
    "    \"tDCS3_198_test.xlsx\", \"tDCS3_209_test.xlsx\", \"tDCS3_221_test.xlsx\"\n",
    "]\n",
    "vl_exclude = [\"tDCS3_170_test.xlsx\", \"tDCS3_207_test.xlsx\"]\n",
    "sham_exclude = sum([Study.load_from_file(op.join(SHAM, a)) for a in sham_exclude])\n",
    "vl_exclude = sum([Study.load_from_file(op.join(vlPFC, a)) for a in vl_exclude])"
   ]
  },
  {
   "cell_type": "code",
   "execution_count": 7,
   "metadata": {},
   "outputs": [],
   "source": [
    "sham_study = sham_study-sham_exclude\n",
    "vlPFC_study = vlPFC_study-vl_exclude"
   ]
  },
  {
   "cell_type": "code",
   "execution_count": 8,
   "metadata": {},
   "outputs": [
    {
     "data": {
      "text/plain": [
       "(23, 25)"
      ]
     },
     "execution_count": 8,
     "metadata": {},
     "output_type": "execute_result"
    }
   ],
   "source": [
    "len(sham_study), len(vlPFC_study)"
   ]
  },
  {
   "cell_type": "code",
   "execution_count": 9,
   "metadata": {},
   "outputs": [],
   "source": [
    "fnames = [\n",
    "    \"sham_study.pkl\", \"vlPFC_study.pkl\", \"eon_study.pkl\", \"eoff_study.pkl\", \n",
    "    \"esham_study.pkl\", \"evlPFC_study.pkl\"\n",
    "]\n",
    "for a,b in zip([sham_study, vlPFC_study, eon_study, eoff_study, esham_study, evlPFC_study], fnames):\n",
    "    a.save(b)"
   ]
  },
  {
   "cell_type": "markdown",
   "metadata": {},
   "source": [
    "### Figure 1"
   ]
  },
  {
   "cell_type": "code",
   "execution_count": 10,
   "metadata": {},
   "outputs": [],
   "source": [
    "from pylab import rcParams\n",
    "rcParams['figure.figsize'] = 8, 3"
   ]
  },
  {
   "cell_type": "code",
   "execution_count": 11,
   "metadata": {},
   "outputs": [
    {
     "data": {
      "image/png": "[encoded data removed]",
      "text/plain": [
       "<Figure size 576x216 with 2 Axes>"
      ]
     },
     "metadata": {
      "needs_background": "light"
     },
     "output_type": "display_data"
    }
   ],
   "source": [
    "plt.subplot(1,2,1)\n",
    "plt.title(\"A\")\n",
    "plt.violinplot(\n",
    "    [sham_study.compute_study_aucs(), vlPFC_study.compute_study_aucs()]#, eon_auc, eoff_auc]\n",
    ")\n",
    "plt.xlim(0.5, 2.5)\n",
    "plt.xticks([1,2], [\"Sham\", \"VLPFC online\"])#, \"DLPFC online\", \"DLPFC offline\"])\n",
    "#plt.grid(True)\n",
    "plt.ylim(0,1)\n",
    "plt.ylabel(\"AUROC\")\n",
    "plt.axhline(y=0.5, xmin=0, xmax=3, color=\"red\")\n",
    "plt.legend(\n",
    "    loc=\"best\",\n",
    "    handles=[Patch(color=\"red\", label=\"AUROC=0.5\")]\n",
    ")\n",
    "plt.subplot(1,2,2)\n",
    "plt.violinplot(\n",
    "    [esham_study.compute_study_aucs(), evlPFC_study.compute_study_aucs()]\n",
    ")\n",
    "plt.xlim(0.5, 2.5)\n",
    "plt.xticks([1,2], [\"Sham\", \"VLPFC Online\"])\n",
    "#plt.grid(True)\n",
    "plt.ylim(0,1)\n",
    "plt.title(\"B\")\n",
    "#plt.ylabel(\"AUC\")\n",
    "plt.axhline(y=0.5, xmin=0, xmax=3, color=\"red\")\n",
    "plt.legend(\n",
    "    loc=\"best\",\n",
    "    handles=[Patch(color=\"red\", label=\"AUROC=0.5\")]\n",
    ")\n",
    "plt.show()"
   ]
  },
  {
   "cell_type": "code",
   "execution_count": 12,
   "metadata": {},
   "outputs": [
    {
     "data": {
      "image/png": "[encoded data removed]",
      "text/plain": [
       "<Figure size 576x216 with 2 Axes>"
      ]
     },
     "metadata": {
      "needs_background": "light"
     },
     "output_type": "display_data"
    }
   ],
   "source": [
    "plt.subplot(1,2,1)\n",
    "plt.boxplot(\n",
    "    [sham_study.compute_study_aucs(), vlPFC_study.compute_study_aucs()], notch=True#, eon_auc, eoff_auc]\n",
    ")\n",
    "plt.legend(\n",
    "    loc=\"best\",\n",
    "    handles=[Patch(color=\"red\", label=\"AUROC=0.5\")]\n",
    ")\n",
    "plt.xlim(0.5, 2.5)\n",
    "plt.xticks([1,2], [\"Sham\", \"VLPFC online\"])#, \"DLPFC online\", \"DLPFC offline\"])\n",
    "#plt.grid(True)\n",
    "plt.ylim(0,1)\n",
    "plt.ylabel(\"AUC\")\n",
    "plt.axhline(y=0.5, xmin=0, xmax=3, color=\"red\")\n",
    "plt.subplot(1,2,2)\n",
    "plt.boxplot(\n",
    "    [esham_study.compute_study_aucs(), evlPFC_study.compute_study_aucs()], notch=True\n",
    ")\n",
    "plt.xlim(0.5, 2.5)\n",
    "plt.xticks([1,2], [\"Sham\", \"VLPFC Online\"])\n",
    "#plt.grid(True)\n",
    "plt.ylim(0,1)\n",
    "plt.legend(\n",
    "    loc=\"best\",\n",
    "    handles=[Patch(color=\"red\", label=\"AUROC=0.5\")]\n",
    ")\n",
    "plt.ylabel(\"AUC\")\n",
    "plt.axhline(y=0.5, xmin=0, xmax=3, color=\"red\")\n",
    "plt.show()"
   ]
  },
  {
   "cell_type": "code",
   "execution_count": 13,
   "metadata": {},
   "outputs": [
    {
     "data": {
      "text/plain": [
       "(0.3339130434782609, 0.5633639803941459, 0.5615925386040328, array([[10, 14],\n",
       "        [13, 11]]))"
      ]
     },
     "execution_count": 13,
     "metadata": {},
     "output_type": "execute_result"
    }
   ],
   "source": [
    "median_test(sham_study.compute_study_aucs(), vlPFC_study.compute_study_aucs())"
   ]
  },
  {
   "cell_type": "markdown",
   "metadata": {},
   "source": [
    "### Figure 2"
   ]
  },
  {
   "cell_type": "code",
   "execution_count": 14,
   "metadata": {},
   "outputs": [],
   "source": [
    "from pylab import rcParams\n",
    "rcParams['figure.figsize'] = 8, 5"
   ]
  },
  {
   "cell_type": "code",
   "execution_count": 15,
   "metadata": {},
   "outputs": [],
   "source": [
    "ru_study = sham_study+vlPFC_study#+eoff_study+eon_study\n",
    "en_study = esham_study+evlPFC_study"
   ]
  },
  {
   "cell_type": "code",
   "execution_count": 16,
   "metadata": {},
   "outputs": [],
   "source": [
    "ru_study_all = ru_study+eoff_study+eon_study"
   ]
  },
  {
   "cell_type": "code",
   "execution_count": 17,
   "metadata": {},
   "outputs": [],
   "source": [
    "ru_study_all.save(\"ru_study.pkl\")\n",
    "en_study.save(\"en_study.pkl\")"
   ]
  },
  {
   "cell_type": "code",
   "execution_count": 18,
   "metadata": {},
   "outputs": [],
   "source": [
    "ru_word_aucs = ru_study.compute_word_aucs()\n",
    "en_word_aucs = en_study.compute_word_aucs()\n",
    "rusham_word_aucs = sham_study.compute_word_aucs()\n",
    "esham_word_aucs = esham_study.compute_word_aucs()\n",
    "ruvlPFC_word_aucs = vlPFC_study.compute_word_aucs()\n",
    "evlPFC_word_aucs = evlPFC_study.compute_word_aucs()"
   ]
  },
  {
   "cell_type": "code",
   "execution_count": 19,
   "metadata": {},
   "outputs": [
    {
     "data": {
      "image/png": "[encoded data removed]",
      "text/plain": [
       "<Figure size 576x360 with 3 Axes>"
      ]
     },
     "metadata": {
      "needs_background": "light"
     },
     "output_type": "display_data"
    }
   ],
   "source": [
    "plt.subplot(1,3,1)\n",
    "plt.title(\"A\")\n",
    "plt.violinplot(\n",
    "    [ru_word_aucs[0], en_word_aucs[0]]#, eon_auc, eoff_auc]\n",
    ")\n",
    "plt.xlim(0.5, 2.5)\n",
    "plt.xticks([1,2], [\"Russian\", \"English\"])#, \"DLPFC online\", \"DLPFC offline\"])\n",
    "#plt.grid(True)\n",
    "plt.ylim(0,1)\n",
    "plt.ylabel(\"AUROC\")\n",
    "plt.axhline(y=0.5, xmin=0, xmax=3, color=\"red\")\n",
    "plt.legend(\n",
    "    loc=\"best\",\n",
    "    handles=[Patch(color=\"red\", label=\"AUROC=0.5\")]\n",
    ")\n",
    "plt.subplot(1,3,2)\n",
    "plt.title(\"B\")\n",
    "plt.violinplot(\n",
    "    [rusham_word_aucs[0], esham_word_aucs[0]]#, eon_auc, eoff_auc]\n",
    ")\n",
    "plt.xlim(0.5, 2.5)\n",
    "plt.xticks([1,2], [\"Russian\", \"English\"])#, \"DLPFC online\", \"DLPFC offline\"])\n",
    "#plt.grid(True)\n",
    "plt.ylim(0,1)\n",
    "plt.axhline(y=0.5, xmin=0, xmax=3, color=\"red\")\n",
    "plt.legend(\n",
    "    loc=\"best\",\n",
    "    handles=[Patch(color=\"red\", label=\"AUROC=0.5\")]\n",
    ")\n",
    "plt.subplot(1,3,3)\n",
    "plt.title(\"C\")\n",
    "plt.violinplot(\n",
    "    [ruvlPFC_word_aucs[0], evlPFC_word_aucs[0]]#, eon_auc, eoff_auc]\n",
    ")\n",
    "plt.xlim(0.5, 2.5)\n",
    "plt.xticks([1,2], [\"Russian\", \"English\"])#, \"DLPFC online\", \"DLPFC offline\"])\n",
    "#plt.grid(True)\n",
    "plt.ylim(0,1)\n",
    "plt.axhline(y=0.5, xmin=0, xmax=3, color=\"red\")\n",
    "plt.legend(\n",
    "    loc=\"best\",\n",
    "    handles=[Patch(color=\"red\", label=\"AUROC=0.5\")]\n",
    ")\n",
    "plt.show()"
   ]
  },
  {
   "cell_type": "code",
   "execution_count": 20,
   "metadata": {},
   "outputs": [
    {
     "data": {
      "image/png": "[encoded data removed]",
      "text/plain": [
       "<Figure size 576x360 with 3 Axes>"
      ]
     },
     "metadata": {
      "needs_background": "light"
     },
     "output_type": "display_data"
    }
   ],
   "source": [
    "plt.subplot(1,3,1)\n",
    "plt.title(\"A\")\n",
    "plt.boxplot(\n",
    "    [ru_word_aucs[0], en_word_aucs[0]], notch=True#, eon_auc, eoff_auc]\n",
    ")\n",
    "plt.xlim(0.5, 2.5)\n",
    "plt.xticks([1,2], [\"Russian\", \"English\"])#, \"DLPFC online\", \"DLPFC offline\"])\n",
    "#plt.grid(True)\n",
    "plt.ylim(0,1)\n",
    "plt.ylabel(\"AUROC\")\n",
    "plt.axhline(y=0.5, xmin=0, xmax=3, color=\"red\")\n",
    "plt.legend(\n",
    "    loc=\"best\",\n",
    "    handles=[Patch(color=\"red\", label=\"AUROC=0.5\")]\n",
    ")\n",
    "plt.subplot(1,3,2)\n",
    "plt.title(\"B\")\n",
    "plt.boxplot(\n",
    "    [rusham_word_aucs[0], esham_word_aucs[0]], notch=True#, eon_auc, eoff_auc]\n",
    ")\n",
    "plt.xlim(0.5, 2.5)\n",
    "plt.xticks([1,2], [\"Russian\", \"English\"])#, \"DLPFC online\", \"DLPFC offline\"])\n",
    "#plt.grid(True)\n",
    "plt.ylim(0,1)\n",
    "plt.axhline(y=0.5, xmin=0, xmax=3, color=\"red\")\n",
    "plt.legend(\n",
    "    loc=\"best\",\n",
    "    handles=[Patch(color=\"red\", label=\"AUROC=0.5\")]\n",
    ")\n",
    "plt.subplot(1,3,3)\n",
    "plt.title(\"C\")\n",
    "plt.boxplot(\n",
    "    [ruvlPFC_word_aucs[0], evlPFC_word_aucs[0]], notch=True#, eon_auc, eoff_auc]\n",
    ")\n",
    "plt.xlim(0.5, 2.5)\n",
    "plt.xticks([1,2], [\"Russian\", \"English\"])#, \"DLPFC online\", \"DLPFC offline\"])\n",
    "#plt.grid(True)\n",
    "plt.ylim(0,1)\n",
    "plt.axhline(y=0.5, xmin=0, xmax=3, color=\"red\")\n",
    "plt.legend(\n",
    "    loc=\"best\",\n",
    "    handles=[Patch(color=\"red\", label=\"AUROC=0.5\")]\n",
    ")\n",
    "plt.show()"
   ]
  },
  {
   "cell_type": "code",
   "execution_count": 21,
   "metadata": {},
   "outputs": [
    {
     "data": {
      "text/plain": [
       "(9.593360995850622,\n",
       " 0.0019528215987615228,\n",
       " 0.5016233766233766,\n",
       " array([[138, 103],\n",
       "        [103, 138]]))"
      ]
     },
     "execution_count": 21,
     "metadata": {},
     "output_type": "execute_result"
    }
   ],
   "source": [
    "median_test(ruvlPFC_word_aucs[0], evlPFC_word_aucs[0])"
   ]
  },
  {
   "cell_type": "markdown",
   "metadata": {},
   "source": [
    "### Figure 3"
   ]
  },
  {
   "cell_type": "code",
   "execution_count": 22,
   "metadata": {},
   "outputs": [],
   "source": [
    "ru_word_RTs = ru_study.get_word_RT()\n",
    "en_word_RTs = en_study.get_word_RT()"
   ]
  },
  {
   "cell_type": "code",
   "execution_count": 23,
   "metadata": {},
   "outputs": [],
   "source": [
    "ru_RTs = np.array(sum([ru_word_RTs[a] for a in ru_word_RTs], []))\n",
    "en_RTs = np.array(sum([en_word_RTs[a] for a in en_word_RTs], []))"
   ]
  },
  {
   "cell_type": "code",
   "execution_count": 24,
   "metadata": {},
   "outputs": [],
   "source": [
    "ru_RTs = ru_study.get_all_RT()\n",
    "en_RTs = en_study.get_all_RT()"
   ]
  },
  {
   "cell_type": "code",
   "execution_count": 25,
   "metadata": {},
   "outputs": [
    {
     "data": {
      "image/png": "[encoded data removed]",
      "text/plain": [
       "<Figure size 576x360 with 1 Axes>"
      ]
     },
     "metadata": {
      "needs_background": "light"
     },
     "output_type": "display_data"
    }
   ],
   "source": [
    "plt.hist(Study.clamp(ru_RTs, 2), bins=20, color=(1,0,0,0.5))\n",
    "plt.hist(Study.clamp(en_RTs, 2), bins=20, color=(0,0,1,0.5))\n",
    "plt.legend(\n",
    "    loc=\"best\",\n",
    "    handles=[\n",
    "        Patch(color=(1,0,0,0.5), label=\"Russian\"),\n",
    "        Patch(color=(0,0,1,0.5), label=\"English\"),\n",
    "    ]\n",
    ")\n",
    "plt.xlabel(\"Reaction time\")\n",
    "plt.ylabel(\"#words\")\n",
    "plt.show()"
   ]
  },
  {
   "cell_type": "code",
   "execution_count": 26,
   "metadata": {},
   "outputs": [
    {
     "data": {
      "text/plain": [
       "Ks_2sampResult(statistic=0.3577191580344497, pvalue=1.0)"
      ]
     },
     "execution_count": 26,
     "metadata": {},
     "output_type": "execute_result"
    }
   ],
   "source": [
    "ks_2samp(\n",
    "    Study.clamp(ru_RTs, 2), Study.clamp(en_RTs, 2)\n",
    ")"
   ]
  },
  {
   "cell_type": "code",
   "execution_count": 27,
   "metadata": {},
   "outputs": [
    {
     "data": {
      "text/plain": [
       "(1458.0887820898974, 0.0, 523.0, array([[3308, 4366],\n",
       "        [5646, 2035]]))"
      ]
     },
     "execution_count": 27,
     "metadata": {},
     "output_type": "execute_result"
    }
   ],
   "source": [
    "median_test(\n",
    "    Study.clamp(ru_RTs, 2), Study.clamp(en_RTs, 2)\n",
    ")"
   ]
  },
  {
   "cell_type": "code",
   "execution_count": 28,
   "metadata": {},
   "outputs": [
    {
     "data": {
      "text/plain": [
       "(1306.2081718354555, 5.059427649268322e-286, 531.0, array([[3596, 4485],\n",
       "        [5881, 2231]]))"
      ]
     },
     "execution_count": 28,
     "metadata": {},
     "output_type": "execute_result"
    }
   ],
   "source": [
    "median_test(\n",
    "    ru_RTs, en_RTs\n",
    ")"
   ]
  }
 ],
 "metadata": {
  "kernelspec": {
   "display_name": "Python 3",
   "language": "python",
   "name": "python3"
  },
  "language_info": {
   "codemirror_mode": {
    "name": "ipython",
    "version": 3
   },
   "file_extension": ".py",
   "mimetype": "text/x-python",
   "name": "python",
   "nbconvert_exporter": "python",
   "pygments_lexer": "ipython3",
   "version": "3.7.5"
  }
 },
 "nbformat": 4,
 "nbformat_minor": 2
}
