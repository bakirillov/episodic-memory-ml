{
 "cells": [
  {
   "cell_type": "code",
   "execution_count": 1,
   "metadata": {},
   "outputs": [],
   "source": [
    "import io\n",
    "import umap\n",
    "import joblib\n",
    "from misc import *\n",
    "import numpy as np\n",
    "import pandas as pd\n",
    "import pickle as pkl\n",
    "from tqdm import tqdm\n",
    "from tpot import TPOTRegressor\n",
    "import matplotlib.pyplot as plt\n",
    "from sklearn.model_selection import train_test_split"
   ]
  },
  {
   "cell_type": "code",
   "execution_count": 2,
   "metadata": {},
   "outputs": [],
   "source": [
    "from scipy.stats import pearsonr, spearmanr"
   ]
  },
  {
   "cell_type": "code",
   "execution_count": 3,
   "metadata": {},
   "outputs": [],
   "source": [
    "np.random.seed(10)"
   ]
  },
  {
   "cell_type": "code",
   "execution_count": 4,
   "metadata": {},
   "outputs": [],
   "source": [
    "data = pd.read_csv(\"english.csv\")"
   ]
  },
  {
   "cell_type": "code",
   "execution_count": 5,
   "metadata": {},
   "outputs": [],
   "source": [
    "X = data.values[:,1:-1]\n",
    "Y = data.values[:,-1:].reshape(-1,)"
   ]
  },
  {
   "cell_type": "code",
   "execution_count": 6,
   "metadata": {},
   "outputs": [],
   "source": [
    "train_X, test_X, train_Y, test_Y = train_test_split(X, Y, test_size=0.2)"
   ]
  },
  {
   "cell_type": "code",
   "execution_count": 7,
   "metadata": {},
   "outputs": [],
   "source": [
    "aug_X_1 = train_X * np.random.normal(size=train_X.shape)#, loc=np.mean(train_X), scale=np.std(train_X))\n",
    "aug_X_2 = train_X * np.random.normal(size=train_X.shape)#, loc=np.mean(train_X), scale=np.std(train_X))\n",
    "aug_X_3 = train_X * np.random.normal(size=train_X.shape)#, loc=np.mean(train_X), scale=np.std(train_X))"
   ]
  },
  {
   "cell_type": "code",
   "execution_count": 8,
   "metadata": {},
   "outputs": [],
   "source": [
    "train_X = np.concatenate([train_X, aug_X_1, aug_X_2, aug_X_3]).astype(np.float32)\n",
    "train_Y = np.concatenate([train_Y, train_Y, train_Y, train_Y]).astype(np.float32)"
   ]
  },
  {
   "cell_type": "code",
   "execution_count": 9,
   "metadata": {},
   "outputs": [
    {
     "data": {
      "application/vnd.jupyter.widget-view+json": {
       "model_id": "",
       "version_major": 2,
       "version_minor": 0
      },
      "text/plain": [
       "HBox(children=(IntProgress(value=0, description='Optimization Progress', max=105, style=ProgressStyle(descript…"
      ]
     },
     "metadata": {},
     "output_type": "display_data"
    },
    {
     "name": "stdout",
     "output_type": "stream",
     "text": [
      "Generation 1 - Current best internal CV score: -0.09262286788381266\n",
      "Generation 2 - Current best internal CV score: -0.09262286788381266\n",
      "Generation 3 - Current best internal CV score: -0.09245038830945948\n",
      "Generation 4 - Current best internal CV score: -0.08985644995813269\n",
      "Generation 5 - Current best internal CV score: -0.08985644995813269\n",
      "Generation 6 - Current best internal CV score: -0.08985644995813269\n",
      "Generation 7 - Current best internal CV score: -0.08985644995813269\n",
      "Generation 8 - Current best internal CV score: -0.08985644995813269\n",
      "Generation 9 - Current best internal CV score: -0.0868466848376889\n",
      "Generation 10 - Current best internal CV score: -0.0868466848376889\n",
      "Generation 11 - Current best internal CV score: -0.0868466848376889\n",
      "Generation 12 - Current best internal CV score: -0.0868466848376889\n",
      "Generation 13 - Current best internal CV score: -0.0868466848376889\n",
      "Generation 14 - Current best internal CV score: -0.07935910993520054\n",
      "Generation 15 - Current best internal CV score: -0.07935910993520054\n",
      "Generation 16 - Current best internal CV score: -0.0769660629362329\n",
      "Generation 17 - Current best internal CV score: -0.07063490084411483\n",
      "Generation 18 - Current best internal CV score: -0.07063490084411483\n",
      "Generation 19 - Current best internal CV score: -0.07040368176115676\n",
      "Generation 20 - Current best internal CV score: -0.07035182544927196\n",
      "\n",
      "Best pipeline: KNeighborsRegressor(ElasticNetCV(input_matrix, l1_ratio=0.8500000000000001, tol=1e-05), n_neighbors=1, p=1, weights=distance)\n"
     ]
    },
    {
     "data": {
      "text/plain": [
       "TPOTRegressor(config_dict='TPOT light', crossover_rate=0.1, cv=10,\n",
       "              disable_update_check=False, early_stop=None, generations=20,\n",
       "              max_eval_time_mins=5, max_time_mins=None, memory=None,\n",
       "              mutation_rate=0.9, n_jobs=1, offspring_size=None,\n",
       "              periodic_checkpoint_folder=None, population_size=5,\n",
       "              random_state=None, scoring='neg_mean_absolute_error',\n",
       "              subsample=1.0, template=None, use_dask=False, verbosity=2,\n",
       "              warm_start=False)"
      ]
     },
     "execution_count": 9,
     "metadata": {},
     "output_type": "execute_result"
    }
   ],
   "source": [
    "tpot = TPOTRegressor(\n",
    "    generations=20, population_size=5, verbosity=2, scoring=\"neg_mean_absolute_error\", cv=10,\n",
    "    config_dict=\"TPOT light\"\n",
    ")\n",
    "tpot.fit(train_X, train_Y)"
   ]
  },
  {
   "cell_type": "code",
   "execution_count": 10,
   "metadata": {},
   "outputs": [],
   "source": [
    "train_Yhat = tpot.fitted_pipeline_.predict(train_X)"
   ]
  },
  {
   "cell_type": "code",
   "execution_count": 11,
   "metadata": {},
   "outputs": [],
   "source": [
    "test_Yhat = tpot.fitted_pipeline_.predict(test_X)"
   ]
  },
  {
   "cell_type": "code",
   "execution_count": 12,
   "metadata": {},
   "outputs": [
    {
     "data": {
      "text/plain": [
       "<matplotlib.collections.PathCollection at 0x7f05ae2a1b90>"
      ]
     },
     "execution_count": 12,
     "metadata": {},
     "output_type": "execute_result"
    },
    {
     "data": {
      "image/png": "[encoded data removed]",
      "text/plain": [
       "<Figure size 432x288 with 1 Axes>"
      ]
     },
     "metadata": {
      "needs_background": "light"
     },
     "output_type": "display_data"
    }
   ],
   "source": [
    "plt.scatter(train_Y, train_Yhat)\n",
    "plt.scatter(test_Y, test_Yhat)"
   ]
  },
  {
   "cell_type": "code",
   "execution_count": 13,
   "metadata": {},
   "outputs": [],
   "source": [
    "aug_Xt_1 = test_X*np.random.normal(size=test_X.shape)\n",
    "aug_Xt_2 = test_X*np.random.normal(size=test_X.shape)\n",
    "aug_Xt_3 = test_X*np.random.normal(size=test_X.shape)"
   ]
  },
  {
   "cell_type": "code",
   "execution_count": 14,
   "metadata": {},
   "outputs": [],
   "source": [
    "augm_X = np.concatenate([test_X, aug_Xt_1, aug_Xt_2, aug_Xt_3])\n",
    "augm_Y = np.concatenate([test_Y, test_Y, test_Y, test_Y])"
   ]
  },
  {
   "cell_type": "code",
   "execution_count": 15,
   "metadata": {},
   "outputs": [
    {
     "data": {
      "text/plain": [
       "<matplotlib.collections.PathCollection at 0x7f05ae2717d0>"
      ]
     },
     "execution_count": 15,
     "metadata": {},
     "output_type": "execute_result"
    },
    {
     "data": {
      "image/png": "[encoded data removed]",
      "text/plain": [
       "<Figure size 432x288 with 1 Axes>"
      ]
     },
     "metadata": {
      "needs_background": "light"
     },
     "output_type": "display_data"
    }
   ],
   "source": [
    "plt.scatter(augm_Y, tpot.fitted_pipeline_.predict(augm_X))"
   ]
  },
  {
   "cell_type": "code",
   "execution_count": 16,
   "metadata": {},
   "outputs": [
    {
     "data": {
      "text/plain": [
       "SpearmanrResult(correlation=0.08933629570351088, pvalue=0.5415750688409477)"
      ]
     },
     "execution_count": 16,
     "metadata": {},
     "output_type": "execute_result"
    }
   ],
   "source": [
    "spearmanr(test_Y, tpot.fitted_pipeline_.predict(test_X))"
   ]
  },
  {
   "cell_type": "code",
   "execution_count": 17,
   "metadata": {},
   "outputs": [
    {
     "data": {
      "text/plain": [
       "(0.055524043628909316, 0.7047418685340882)"
      ]
     },
     "execution_count": 17,
     "metadata": {},
     "output_type": "execute_result"
    }
   ],
   "source": [
    "pearsonr(test_Y, tpot.fitted_pipeline_.predict(test_X))"
   ]
  }
 ],
 "metadata": {
  "kernelspec": {
   "display_name": "Python 3",
   "language": "python",
   "name": "python3"
  },
  "language_info": {
   "codemirror_mode": {
    "name": "ipython",
    "version": 3
   },
   "file_extension": ".py",
   "mimetype": "text/x-python",
   "name": "python",
   "nbconvert_exporter": "python",
   "pygments_lexer": "ipython3",
   "version": "3.7.5"
  }
 },
 "nbformat": 4,
 "nbformat_minor": 2
}
