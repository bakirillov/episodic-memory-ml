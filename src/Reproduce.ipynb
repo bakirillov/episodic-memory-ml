{
 "cells": [
  {
   "cell_type": "markdown",
   "metadata": {},
   "source": [
    "# Instructions for Reproduction"
   ]
  },
  {
   "cell_type": "markdown",
   "metadata": {},
   "source": [
    "1. Run Figures_1,2,3.ipynb;\n",
    "2. Run this notebook;\n",
    "3. Run reproduce_all.sh script;"
   ]
  },
  {
   "cell_type": "markdown",
   "metadata": {},
   "source": [
    "## Dataset construction"
   ]
  },
  {
   "cell_type": "code",
   "execution_count": 1,
   "metadata": {},
   "outputs": [],
   "source": [
    "EN_VEC = \"/home/bakirillov/HDD/weights/fasttext/aligned/wiki.en.align.vec\"\n",
    "RU_VEC = \"/home/bakirillov/HDD/weights/fasttext/aligned/wiki.ru.align.vec\""
   ]
  },
  {
   "cell_type": "code",
   "execution_count": 2,
   "metadata": {},
   "outputs": [],
   "source": [
    "VC = \"python vectors.py -v VEC -s STUDY -w WHAT -o OUTPUT\""
   ]
  },
  {
   "cell_type": "code",
   "execution_count": 3,
   "metadata": {},
   "outputs": [],
   "source": [
    "script = open(\"unpack_data_PI.sh\", \"w\")\n",
    "script.write(\"#!/bin/sh\\n\\n\\n\")\n",
    "for a in [\"wv\", \"1hot\"]:\n",
    "    for b,c in zip([EN_VEC, RU_VEC], [\"en_study.pkl\", \"ru_study.pkl\"]):\n",
    "        command = VC.replace(\"WHAT\", a).replace(\"VEC\", b).replace(\n",
    "            \"STUDY\", c\n",
    "        ).replace(\"OUTPUT\", \"../unpacked/\"+c+\"_\"+a+\".csv\")+\"\\n\"\n",
    "        script.write(command)\n",
    "script.close()"
   ]
  },
  {
   "cell_type": "code",
   "execution_count": 4,
   "metadata": {},
   "outputs": [],
   "source": [
    "VC = \"python vectors.py -v VEC -s STUDY -w WHAT -p PARTICIPANT -o OUTPUT\""
   ]
  },
  {
   "cell_type": "code",
   "execution_count": 5,
   "metadata": {},
   "outputs": [],
   "source": [
    "script = open(\"unpack_data_PD.sh\", \"w\")\n",
    "script.write(\"#!/bin/sh\\n\\n\\n\")\n",
    "for a in [\"wv\", \"1hot\"]:\n",
    "    for b,c,d in zip(\n",
    "        [\"../unpacked/en_study.pkl_wv.csv\", \"../unpacked/ru_study.pkl_wv.csv\"], \n",
    "        [\"en_study.pkl\", \"ru_study.pkl\"], [34, 103]\n",
    "    ):\n",
    "        for e in range(d):\n",
    "            command = VC.replace(\"WHAT\", a).replace(\"VEC\", b).replace(\n",
    "                \"STUDY\", c\n",
    "            ).replace(\n",
    "                \"OUTPUT\", \"../unpacked/\"+c+\"_\"+a+\"_\"+str(e)+\".csv\"\n",
    "            ).replace(\"PARTICIPANT\", str(e))+\"\\n\"\n",
    "            script.write(command)\n",
    "script.close()"
   ]
  }
 ],
 "metadata": {
  "kernelspec": {
   "display_name": "Python 3",
   "language": "python",
   "name": "python3"
  },
  "language_info": {
   "codemirror_mode": {
    "name": "ipython",
    "version": 3
   },
   "file_extension": ".py",
   "mimetype": "text/x-python",
   "name": "python",
   "nbconvert_exporter": "python",
   "pygments_lexer": "ipython3",
   "version": "3.7.5"
  }
 },
 "nbformat": 4,
 "nbformat_minor": 2
}
