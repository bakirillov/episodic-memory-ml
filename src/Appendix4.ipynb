{
 "cells": [
  {
   "cell_type": "code",
   "execution_count": 1,
   "metadata": {},
   "outputs": [],
   "source": [
    "import os\n",
    "import json\n",
    "import numpy as np\n",
    "import pandas as pd\n",
    "import os.path as op\n",
    "from sklearn.metrics import roc_auc_score"
   ]
  },
  {
   "cell_type": "code",
   "execution_count": 2,
   "metadata": {},
   "outputs": [],
   "source": [
    "files = [a for a in os.walk(\"../results/\")][0][2]"
   ]
  },
  {
   "cell_type": "code",
   "execution_count": 3,
   "metadata": {},
   "outputs": [],
   "source": [
    "def get_data(x, f):\n",
    "    with open(op.join(f, x), \"r\") as oh:\n",
    "        return(json.load(oh))"
   ]
  },
  {
   "cell_type": "code",
   "execution_count": 4,
   "metadata": {},
   "outputs": [],
   "source": [
    "def aurocs(a):\n",
    "    return(\n",
    "        [\n",
    "            roc_auc_score(y_true=a[\"train.reals\"], y_score=a[\"train.preds\"]),\n",
    "            roc_auc_score(y_true=a[\"test.reals\"], y_score=a[\"test.preds\"])\n",
    "        ]\n",
    "    )"
   ]
  },
  {
   "cell_type": "code",
   "execution_count": 5,
   "metadata": {},
   "outputs": [],
   "source": [
    "ru_1hot = list(\n",
    "    sorted(\n",
    "        list(filter(lambda x: \"_1hot_\" in x and \"ru\" in x and \"json\" in x, files)),\n",
    "        key=lambda x: int(x.split(\"_\")[-1].split(\".\")[0])\n",
    "    )\n",
    ")\n",
    "en_1hot = list(\n",
    "    sorted(\n",
    "        list(filter(lambda x: \"_1hot_\" in x and \"en\" in x and \"json\" in x, files)),\n",
    "        key=lambda x: int(x.split(\"_\")[-1].split(\".\")[0])\n",
    "    )\n",
    ")\n",
    "ru_wv = list(\n",
    "    sorted(\n",
    "        list(filter(lambda x: \"_wv_\" in x and \"ru\" in x and \"json\" in x, files)),\n",
    "        key=lambda x: int(x.split(\"_\")[-1].split(\".\")[0])\n",
    "    )\n",
    ")\n",
    "en_wv = list(\n",
    "    sorted(\n",
    "        list(filter(lambda x: \"_wv_\" in x and \"en\" in x and \"json\" in x, files)),\n",
    "        key=lambda x: int(x.split(\"_\")[-1].split(\".\")[0])\n",
    "    )\n",
    ")\n",
    "ru_1hot = [get_data(a, \"../results/\") for a in ru_1hot]\n",
    "en_1hot = [get_data(a, \"../results/\") for a in en_1hot]\n",
    "ru_wv = [get_data(a, \"../results/\") for a in ru_wv]\n",
    "en_wv = [get_data(a, \"../results/\") for a in en_wv]"
   ]
  },
  {
   "cell_type": "code",
   "execution_count": 6,
   "metadata": {},
   "outputs": [],
   "source": [
    "ru_sham_aucs_1hot = [aurocs(a) for a in ru_1hot[0:23]]\n",
    "ru_vl_aucs_1hot = [aurocs(a) for a in ru_1hot[24:23+25+1]]\n",
    "ru_eoff_aucs_1hot = [aurocs(a) for a in ru_1hot[23+25+1:23+25+25]]\n",
    "ru_eon_aucs_1hot = [aurocs(a) for a in ru_1hot[23+25+25:]]\n",
    "ru_sham_aucs_wv = [aurocs(a) for a in ru_wv[0:23]]\n",
    "ru_vl_aucs_wv = [aurocs(a) for a in ru_wv[24:23+25+1]]\n",
    "ru_eoff_aucs_wv = [aurocs(a) for a in ru_wv[23+25+1:23+25+25]]\n",
    "ru_eon_aucs_wv = [aurocs(a) for a in ru_wv[23+25+25:]]"
   ]
  },
  {
   "cell_type": "code",
   "execution_count": 7,
   "metadata": {},
   "outputs": [],
   "source": [
    "en_sham_aucs_1hot = [aurocs(a) for a in en_1hot[0:17]]\n",
    "en_vl_aucs_1hot = [aurocs(a) for a in en_1hot[17:]]\n",
    "en_sham_aucs_wv = [aurocs(a) for a in en_wv[0:17]]\n",
    "en_vl_aucs_wv = [aurocs(a) for a in en_wv[17:]]"
   ]
  },
  {
   "cell_type": "code",
   "execution_count": 8,
   "metadata": {},
   "outputs": [],
   "source": [
    "ru_1hot_aucs = np.stack([aurocs(a) for a in ru_1hot])\n",
    "en_1hot_aucs = np.stack([aurocs(a) for a in en_1hot])\n",
    "ru_wv_aucs = np.stack([aurocs(a) for a in ru_wv])\n",
    "en_wv_aucs = np.stack([aurocs(a) for a in en_wv])"
   ]
  },
  {
   "cell_type": "code",
   "execution_count": 17,
   "metadata": {},
   "outputs": [],
   "source": [
    "def get_results(total, sham, vl, eoff, eon):\n",
    "    return(\n",
    "        pd.DataFrame(\n",
    "            {\n",
    "                \"trial\": [\n",
    "                    \"all\", \"sham\", \"vl\", \"eoff\", \"eon\"\n",
    "                ],\n",
    "                \"train_mean\": [\n",
    "                    np.mean(total, 0)[0], np.mean(sham, 0)[0],\n",
    "                    np.mean(vl, 0)[0], np.mean(eoff, 0)[0],\n",
    "                    np.mean(eon, 0)[0]\n",
    "                ],\n",
    "                \"train_std\": [\n",
    "                    np.std(total, 0)[0], np.std(sham, 0)[0],\n",
    "                    np.std(vl, 0)[0], np.std(eoff, 0)[0],\n",
    "                    np.std(eon, 0)[0]\n",
    "                ],\n",
    "                \"test_mean\": [\n",
    "                    np.mean(total, 0)[1], np.mean(sham, 0)[1],\n",
    "                    np.mean(vl, 0)[1], np.mean(eoff, 0)[1],\n",
    "                    np.mean(eon, 0)[1]\n",
    "                ],\n",
    "                \"test_std\": [\n",
    "                    np.std(total, 0)[1], np.std(sham, 0)[1],\n",
    "                    np.std(vl, 0)[1], np.std(eoff, 0)[1],\n",
    "                    np.std(eon, 0)[1]\n",
    "                ]\n",
    "            }\n",
    "        )\n",
    "    )"
   ]
  },
  {
   "cell_type": "code",
   "execution_count": 23,
   "metadata": {},
   "outputs": [],
   "source": [
    "ru_1hot_results = get_results(\n",
    "    ru_1hot_aucs, ru_sham_aucs_1hot, ru_vl_aucs_1hot, ru_eoff_aucs_1hot,\n",
    "    ru_eon_aucs_1hot\n",
    ")\n",
    "ru_wv_results = get_results(\n",
    "    ru_wv_aucs, ru_sham_aucs_wv, ru_vl_aucs_wv, ru_eoff_aucs_wv,\n",
    "    ru_eon_aucs_wv\n",
    ")\n",
    "en_1hot_results = get_results(\n",
    "    en_1hot_aucs, en_sham_aucs_1hot, en_vl_aucs_1hot, en_vl_aucs_1hot,\n",
    "    en_sham_aucs_1hot\n",
    ").iloc[0:3]\n",
    "en_wv_results = get_results(\n",
    "    en_wv_aucs, en_sham_aucs_wv, en_vl_aucs_wv, en_vl_aucs_wv,\n",
    "    en_sham_aucs_wv\n",
    ").iloc[0:3]"
   ]
  },
  {
   "cell_type": "code",
   "execution_count": 25,
   "metadata": {},
   "outputs": [
    {
     "data": {
      "text/html": [
       "<div>\n",
       "<style scoped>\n",
       "    .dataframe tbody tr th:only-of-type {\n",
       "        vertical-align: middle;\n",
       "    }\n",
       "\n",
       "    .dataframe tbody tr th {\n",
       "        vertical-align: top;\n",
       "    }\n",
       "\n",
       "    .dataframe thead th {\n",
       "        text-align: right;\n",
       "    }\n",
       "</style>\n",
       "<table border=\"1\" class=\"dataframe\">\n",
       "  <thead>\n",
       "    <tr style=\"text-align: right;\">\n",
       "      <th></th>\n",
       "      <th>trial</th>\n",
       "      <th>train_mean</th>\n",
       "      <th>train_std</th>\n",
       "      <th>test_mean</th>\n",
       "      <th>test_std</th>\n",
       "    </tr>\n",
       "  </thead>\n",
       "  <tbody>\n",
       "    <tr>\n",
       "      <th>0</th>\n",
       "      <td>all</td>\n",
       "      <td>0.498695</td>\n",
       "      <td>0.010770</td>\n",
       "      <td>0.501186</td>\n",
       "      <td>0.020455</td>\n",
       "    </tr>\n",
       "    <tr>\n",
       "      <th>1</th>\n",
       "      <td>sham</td>\n",
       "      <td>0.497954</td>\n",
       "      <td>0.012057</td>\n",
       "      <td>0.498499</td>\n",
       "      <td>0.015016</td>\n",
       "    </tr>\n",
       "    <tr>\n",
       "      <th>2</th>\n",
       "      <td>vl</td>\n",
       "      <td>0.499969</td>\n",
       "      <td>0.004261</td>\n",
       "      <td>0.501074</td>\n",
       "      <td>0.011245</td>\n",
       "    </tr>\n",
       "    <tr>\n",
       "      <th>3</th>\n",
       "      <td>eoff</td>\n",
       "      <td>0.497633</td>\n",
       "      <td>0.017426</td>\n",
       "      <td>0.508254</td>\n",
       "      <td>0.029912</td>\n",
       "    </tr>\n",
       "    <tr>\n",
       "      <th>4</th>\n",
       "      <td>eon</td>\n",
       "      <td>0.499030</td>\n",
       "      <td>0.004413</td>\n",
       "      <td>0.497479</td>\n",
       "      <td>0.019537</td>\n",
       "    </tr>\n",
       "  </tbody>\n",
       "</table>\n",
       "</div>"
      ],
      "text/plain": [
       "  trial  train_mean  train_std  test_mean  test_std\n",
       "0   all    0.498695   0.010770   0.501186  0.020455\n",
       "1  sham    0.497954   0.012057   0.498499  0.015016\n",
       "2    vl    0.499969   0.004261   0.501074  0.011245\n",
       "3  eoff    0.497633   0.017426   0.508254  0.029912\n",
       "4   eon    0.499030   0.004413   0.497479  0.019537"
      ]
     },
     "execution_count": 25,
     "metadata": {},
     "output_type": "execute_result"
    }
   ],
   "source": [
    "ru_1hot_results"
   ]
  },
  {
   "cell_type": "code",
   "execution_count": 30,
   "metadata": {},
   "outputs": [
    {
     "name": "stdout",
     "output_type": "stream",
     "text": [
      "\\begin{tabular}{llrrrr}\n",
      "\\toprule\n",
      "{} & trial &  train\\_mean &  train\\_std &  test\\_mean &  test\\_std \\\\\n",
      "\\midrule\n",
      "0 &   all &    0.498695 &   0.010770 &   0.501186 &  0.020455 \\\\\n",
      "1 &  sham &    0.497954 &   0.012057 &   0.498499 &  0.015016 \\\\\n",
      "2 &    vl &    0.499969 &   0.004261 &   0.501074 &  0.011245 \\\\\n",
      "3 &  eoff &    0.497633 &   0.017426 &   0.508254 &  0.029912 \\\\\n",
      "4 &   eon &    0.499030 &   0.004413 &   0.497479 &  0.019537 \\\\\n",
      "\\bottomrule\n",
      "\\end{tabular}\n",
      "\n"
     ]
    }
   ],
   "source": [
    "print(ru_1hot_results.to_latex())"
   ]
  },
  {
   "cell_type": "code",
   "execution_count": 26,
   "metadata": {},
   "outputs": [
    {
     "data": {
      "text/html": [
       "<div>\n",
       "<style scoped>\n",
       "    .dataframe tbody tr th:only-of-type {\n",
       "        vertical-align: middle;\n",
       "    }\n",
       "\n",
       "    .dataframe tbody tr th {\n",
       "        vertical-align: top;\n",
       "    }\n",
       "\n",
       "    .dataframe thead th {\n",
       "        text-align: right;\n",
       "    }\n",
       "</style>\n",
       "<table border=\"1\" class=\"dataframe\">\n",
       "  <thead>\n",
       "    <tr style=\"text-align: right;\">\n",
       "      <th></th>\n",
       "      <th>trial</th>\n",
       "      <th>train_mean</th>\n",
       "      <th>train_std</th>\n",
       "      <th>test_mean</th>\n",
       "      <th>test_std</th>\n",
       "    </tr>\n",
       "  </thead>\n",
       "  <tbody>\n",
       "    <tr>\n",
       "      <th>0</th>\n",
       "      <td>all</td>\n",
       "      <td>1.0</td>\n",
       "      <td>0.0</td>\n",
       "      <td>0.514018</td>\n",
       "      <td>0.069148</td>\n",
       "    </tr>\n",
       "    <tr>\n",
       "      <th>1</th>\n",
       "      <td>sham</td>\n",
       "      <td>1.0</td>\n",
       "      <td>0.0</td>\n",
       "      <td>0.515245</td>\n",
       "      <td>0.065297</td>\n",
       "    </tr>\n",
       "    <tr>\n",
       "      <th>2</th>\n",
       "      <td>vl</td>\n",
       "      <td>1.0</td>\n",
       "      <td>0.0</td>\n",
       "      <td>0.495266</td>\n",
       "      <td>0.071738</td>\n",
       "    </tr>\n",
       "    <tr>\n",
       "      <th>3</th>\n",
       "      <td>eoff</td>\n",
       "      <td>1.0</td>\n",
       "      <td>0.0</td>\n",
       "      <td>0.539783</td>\n",
       "      <td>0.077794</td>\n",
       "    </tr>\n",
       "    <tr>\n",
       "      <th>4</th>\n",
       "      <td>eon</td>\n",
       "      <td>1.0</td>\n",
       "      <td>0.0</td>\n",
       "      <td>0.510076</td>\n",
       "      <td>0.055306</td>\n",
       "    </tr>\n",
       "  </tbody>\n",
       "</table>\n",
       "</div>"
      ],
      "text/plain": [
       "  trial  train_mean  train_std  test_mean  test_std\n",
       "0   all         1.0        0.0   0.514018  0.069148\n",
       "1  sham         1.0        0.0   0.515245  0.065297\n",
       "2    vl         1.0        0.0   0.495266  0.071738\n",
       "3  eoff         1.0        0.0   0.539783  0.077794\n",
       "4   eon         1.0        0.0   0.510076  0.055306"
      ]
     },
     "execution_count": 26,
     "metadata": {},
     "output_type": "execute_result"
    }
   ],
   "source": [
    "ru_wv_results"
   ]
  },
  {
   "cell_type": "code",
   "execution_count": 31,
   "metadata": {},
   "outputs": [
    {
     "name": "stdout",
     "output_type": "stream",
     "text": [
      "\\begin{tabular}{llrrrr}\n",
      "\\toprule\n",
      "{} & trial &  train\\_mean &  train\\_std &  test\\_mean &  test\\_std \\\\\n",
      "\\midrule\n",
      "0 &   all &         1.0 &        0.0 &   0.514018 &  0.069148 \\\\\n",
      "1 &  sham &         1.0 &        0.0 &   0.515245 &  0.065297 \\\\\n",
      "2 &    vl &         1.0 &        0.0 &   0.495266 &  0.071738 \\\\\n",
      "3 &  eoff &         1.0 &        0.0 &   0.539783 &  0.077794 \\\\\n",
      "4 &   eon &         1.0 &        0.0 &   0.510076 &  0.055306 \\\\\n",
      "\\bottomrule\n",
      "\\end{tabular}\n",
      "\n"
     ]
    }
   ],
   "source": [
    "print(ru_wv_results.to_latex())"
   ]
  },
  {
   "cell_type": "code",
   "execution_count": 28,
   "metadata": {},
   "outputs": [
    {
     "data": {
      "text/html": [
       "<div>\n",
       "<style scoped>\n",
       "    .dataframe tbody tr th:only-of-type {\n",
       "        vertical-align: middle;\n",
       "    }\n",
       "\n",
       "    .dataframe tbody tr th {\n",
       "        vertical-align: top;\n",
       "    }\n",
       "\n",
       "    .dataframe thead th {\n",
       "        text-align: right;\n",
       "    }\n",
       "</style>\n",
       "<table border=\"1\" class=\"dataframe\">\n",
       "  <thead>\n",
       "    <tr style=\"text-align: right;\">\n",
       "      <th></th>\n",
       "      <th>trial</th>\n",
       "      <th>train_mean</th>\n",
       "      <th>train_std</th>\n",
       "      <th>test_mean</th>\n",
       "      <th>test_std</th>\n",
       "    </tr>\n",
       "  </thead>\n",
       "  <tbody>\n",
       "    <tr>\n",
       "      <th>0</th>\n",
       "      <td>all</td>\n",
       "      <td>0.499254</td>\n",
       "      <td>0.002686</td>\n",
       "      <td>0.501446</td>\n",
       "      <td>0.005701</td>\n",
       "    </tr>\n",
       "    <tr>\n",
       "      <th>1</th>\n",
       "      <td>sham</td>\n",
       "      <td>0.499418</td>\n",
       "      <td>0.002330</td>\n",
       "      <td>0.501471</td>\n",
       "      <td>0.005882</td>\n",
       "    </tr>\n",
       "    <tr>\n",
       "      <th>2</th>\n",
       "      <td>vl</td>\n",
       "      <td>0.499081</td>\n",
       "      <td>0.003009</td>\n",
       "      <td>0.501420</td>\n",
       "      <td>0.005501</td>\n",
       "    </tr>\n",
       "  </tbody>\n",
       "</table>\n",
       "</div>"
      ],
      "text/plain": [
       "  trial  train_mean  train_std  test_mean  test_std\n",
       "0   all    0.499254   0.002686   0.501446  0.005701\n",
       "1  sham    0.499418   0.002330   0.501471  0.005882\n",
       "2    vl    0.499081   0.003009   0.501420  0.005501"
      ]
     },
     "execution_count": 28,
     "metadata": {},
     "output_type": "execute_result"
    }
   ],
   "source": [
    "en_1hot_results"
   ]
  },
  {
   "cell_type": "code",
   "execution_count": 28,
   "metadata": {},
   "outputs": [
    {
     "data": {
      "text/html": [
       "<div>\n",
       "<style scoped>\n",
       "    .dataframe tbody tr th:only-of-type {\n",
       "        vertical-align: middle;\n",
       "    }\n",
       "\n",
       "    .dataframe tbody tr th {\n",
       "        vertical-align: top;\n",
       "    }\n",
       "\n",
       "    .dataframe thead th {\n",
       "        text-align: right;\n",
       "    }\n",
       "</style>\n",
       "<table border=\"1\" class=\"dataframe\">\n",
       "  <thead>\n",
       "    <tr style=\"text-align: right;\">\n",
       "      <th></th>\n",
       "      <th>trial</th>\n",
       "      <th>train_mean</th>\n",
       "      <th>train_std</th>\n",
       "      <th>test_mean</th>\n",
       "      <th>test_std</th>\n",
       "    </tr>\n",
       "  </thead>\n",
       "  <tbody>\n",
       "    <tr>\n",
       "      <th>0</th>\n",
       "      <td>all</td>\n",
       "      <td>0.499254</td>\n",
       "      <td>0.002686</td>\n",
       "      <td>0.501446</td>\n",
       "      <td>0.005701</td>\n",
       "    </tr>\n",
       "    <tr>\n",
       "      <th>1</th>\n",
       "      <td>sham</td>\n",
       "      <td>0.499418</td>\n",
       "      <td>0.002330</td>\n",
       "      <td>0.501471</td>\n",
       "      <td>0.005882</td>\n",
       "    </tr>\n",
       "    <tr>\n",
       "      <th>2</th>\n",
       "      <td>vl</td>\n",
       "      <td>0.499081</td>\n",
       "      <td>0.003009</td>\n",
       "      <td>0.501420</td>\n",
       "      <td>0.005501</td>\n",
       "    </tr>\n",
       "  </tbody>\n",
       "</table>\n",
       "</div>"
      ],
      "text/plain": [
       "  trial  train_mean  train_std  test_mean  test_std\n",
       "0   all    0.499254   0.002686   0.501446  0.005701\n",
       "1  sham    0.499418   0.002330   0.501471  0.005882\n",
       "2    vl    0.499081   0.003009   0.501420  0.005501"
      ]
     },
     "execution_count": 28,
     "metadata": {},
     "output_type": "execute_result"
    }
   ],
   "source": [
    "en_1hot_results"
   ]
  },
  {
   "cell_type": "code",
   "execution_count": 32,
   "metadata": {},
   "outputs": [
    {
     "name": "stdout",
     "output_type": "stream",
     "text": [
      "\\begin{tabular}{llrrrr}\n",
      "\\toprule\n",
      "{} & trial &  train\\_mean &  train\\_std &  test\\_mean &  test\\_std \\\\\n",
      "\\midrule\n",
      "0 &   all &    0.499254 &   0.002686 &   0.501446 &  0.005701 \\\\\n",
      "1 &  sham &    0.499418 &   0.002330 &   0.501471 &  0.005882 \\\\\n",
      "2 &    vl &    0.499081 &   0.003009 &   0.501420 &  0.005501 \\\\\n",
      "\\bottomrule\n",
      "\\end{tabular}\n",
      "\n"
     ]
    }
   ],
   "source": [
    "print(en_1hot_results.to_latex())"
   ]
  },
  {
   "cell_type": "code",
   "execution_count": 27,
   "metadata": {},
   "outputs": [
    {
     "data": {
      "text/html": [
       "<div>\n",
       "<style scoped>\n",
       "    .dataframe tbody tr th:only-of-type {\n",
       "        vertical-align: middle;\n",
       "    }\n",
       "\n",
       "    .dataframe tbody tr th {\n",
       "        vertical-align: top;\n",
       "    }\n",
       "\n",
       "    .dataframe thead th {\n",
       "        text-align: right;\n",
       "    }\n",
       "</style>\n",
       "<table border=\"1\" class=\"dataframe\">\n",
       "  <thead>\n",
       "    <tr style=\"text-align: right;\">\n",
       "      <th></th>\n",
       "      <th>trial</th>\n",
       "      <th>train_mean</th>\n",
       "      <th>train_std</th>\n",
       "      <th>test_mean</th>\n",
       "      <th>test_std</th>\n",
       "    </tr>\n",
       "  </thead>\n",
       "  <tbody>\n",
       "    <tr>\n",
       "      <th>0</th>\n",
       "      <td>all</td>\n",
       "      <td>1.0</td>\n",
       "      <td>0.0</td>\n",
       "      <td>0.526896</td>\n",
       "      <td>0.076370</td>\n",
       "    </tr>\n",
       "    <tr>\n",
       "      <th>1</th>\n",
       "      <td>sham</td>\n",
       "      <td>1.0</td>\n",
       "      <td>0.0</td>\n",
       "      <td>0.503757</td>\n",
       "      <td>0.082510</td>\n",
       "    </tr>\n",
       "    <tr>\n",
       "      <th>2</th>\n",
       "      <td>vl</td>\n",
       "      <td>1.0</td>\n",
       "      <td>0.0</td>\n",
       "      <td>0.550036</td>\n",
       "      <td>0.061531</td>\n",
       "    </tr>\n",
       "  </tbody>\n",
       "</table>\n",
       "</div>"
      ],
      "text/plain": [
       "  trial  train_mean  train_std  test_mean  test_std\n",
       "0   all         1.0        0.0   0.526896  0.076370\n",
       "1  sham         1.0        0.0   0.503757  0.082510\n",
       "2    vl         1.0        0.0   0.550036  0.061531"
      ]
     },
     "execution_count": 27,
     "metadata": {},
     "output_type": "execute_result"
    }
   ],
   "source": [
    "en_wv_results"
   ]
  },
  {
   "cell_type": "code",
   "execution_count": 33,
   "metadata": {},
   "outputs": [
    {
     "name": "stdout",
     "output_type": "stream",
     "text": [
      "\\begin{tabular}{llrrrr}\n",
      "\\toprule\n",
      "{} & trial &  train\\_mean &  train\\_std &  test\\_mean &  test\\_std \\\\\n",
      "\\midrule\n",
      "0 &   all &         1.0 &        0.0 &   0.526896 &  0.076370 \\\\\n",
      "1 &  sham &         1.0 &        0.0 &   0.503757 &  0.082510 \\\\\n",
      "2 &    vl &         1.0 &        0.0 &   0.550036 &  0.061531 \\\\\n",
      "\\bottomrule\n",
      "\\end{tabular}\n",
      "\n"
     ]
    }
   ],
   "source": [
    "print(en_wv_results.to_latex())"
   ]
  }
 ],
 "metadata": {
  "kernelspec": {
   "display_name": "Python 3",
   "language": "python",
   "name": "python3"
  },
  "language_info": {
   "codemirror_mode": {
    "name": "ipython",
    "version": 3
   },
   "file_extension": ".py",
   "mimetype": "text/x-python",
   "name": "python",
   "nbconvert_exporter": "python",
   "pygments_lexer": "ipython3",
   "version": "3.7.5"
  }
 },
 "nbformat": 4,
 "nbformat_minor": 2
}
