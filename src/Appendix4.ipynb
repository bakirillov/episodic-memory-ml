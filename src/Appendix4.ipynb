{
 "cells": [
  {
   "cell_type": "code",
   "execution_count": 1,
   "metadata": {},
   "outputs": [],
   "source": [
    "import os\n",
    "import json\n",
    "import numpy as np\n",
    "import pandas as pd\n",
    "import os.path as op\n",
    "from sklearn.metrics import roc_auc_score"
   ]
  },
  {
   "cell_type": "code",
   "execution_count": 2,
   "metadata": {},
   "outputs": [],
   "source": [
    "files = [a for a in os.walk(\"../results/\")][0][2]"
   ]
  },
  {
   "cell_type": "code",
   "execution_count": 3,
   "metadata": {},
   "outputs": [],
   "source": [
    "def get_data(x, f):\n",
    "    with open(op.join(f, x), \"r\") as oh:\n",
    "        return(json.load(oh))"
   ]
  },
  {
   "cell_type": "code",
   "execution_count": 4,
   "metadata": {},
   "outputs": [],
   "source": [
    "def aurocs(a):\n",
    "    return(\n",
    "        [\n",
    "            roc_auc_score(y_true=a[\"train.reals\"], y_score=a[\"train.preds\"]),\n",
    "            roc_auc_score(y_true=a[\"test.reals\"], y_score=a[\"test.preds\"])\n",
    "        ]\n",
    "    )"
   ]
  },
  {
   "cell_type": "code",
   "execution_count": 6,
   "metadata": {},
   "outputs": [],
   "source": [
    "files = list(filter(lambda x: \".json\" in x and \"test1\" not in x, files))"
   ]
  },
  {
   "cell_type": "code",
   "execution_count": 7,
   "metadata": {},
   "outputs": [],
   "source": [
    "ru_1hot = list(\n",
    "    sorted(\n",
    "        list(filter(lambda x: \"_1hot_\" in x and \"ru\" in x and \"json\" in x, files)),\n",
    "        key=lambda x: int(x.split(\"_\")[-1].split(\".\")[0])\n",
    "    )\n",
    ")\n",
    "en_1hot = list(\n",
    "    sorted(\n",
    "        list(filter(lambda x: \"_1hot_\" in x and \"en\" in x and \"json\" in x, files)),\n",
    "        key=lambda x: int(x.split(\"_\")[-1].split(\".\")[0])\n",
    "    )\n",
    ")\n",
    "ru_wv = list(\n",
    "    sorted(\n",
    "        list(filter(lambda x: \"_wv_\" in x and \"ru\" in x and \"json\" in x, files)),\n",
    "        key=lambda x: int(x.split(\"_\")[-1].split(\".\")[0])\n",
    "    )\n",
    ")\n",
    "en_wv = list(\n",
    "    sorted(\n",
    "        list(filter(lambda x: \"_wv_\" in x and \"en\" in x and \"json\" in x, files)),\n",
    "        key=lambda x: int(x.split(\"_\")[-1].split(\".\")[0])\n",
    "    )\n",
    ")\n",
    "ru_1hot = [get_data(a, \"../results/\") for a in ru_1hot]\n",
    "en_1hot = [get_data(a, \"../results/\") for a in en_1hot]\n",
    "ru_wv = [get_data(a, \"../results/\") for a in ru_wv]\n",
    "en_wv = [get_data(a, \"../results/\") for a in en_wv]"
   ]
  },
  {
   "cell_type": "code",
   "execution_count": 8,
   "metadata": {},
   "outputs": [],
   "source": [
    "ru_sham_aucs_1hot = [aurocs(a) for a in ru_1hot[0:23]]\n",
    "ru_vl_aucs_1hot = [aurocs(a) for a in ru_1hot[24:23+25+1]]\n",
    "ru_eoff_aucs_1hot = [aurocs(a) for a in ru_1hot[23+25+1:23+25+25]]\n",
    "ru_eon_aucs_1hot = [aurocs(a) for a in ru_1hot[23+25+25:]]\n",
    "ru_sham_aucs_wv = [aurocs(a) for a in ru_wv[0:23]]\n",
    "ru_vl_aucs_wv = [aurocs(a) for a in ru_wv[24:23+25+1]]\n",
    "ru_eoff_aucs_wv = [aurocs(a) for a in ru_wv[23+25+1:23+25+25]]\n",
    "ru_eon_aucs_wv = [aurocs(a) for a in ru_wv[23+25+25:]]"
   ]
  },
  {
   "cell_type": "code",
   "execution_count": 9,
   "metadata": {},
   "outputs": [],
   "source": [
    "en_sham_aucs_1hot = [aurocs(a) for a in en_1hot[0:17]]\n",
    "en_vl_aucs_1hot = [aurocs(a) for a in en_1hot[17:]]\n",
    "en_sham_aucs_wv = [aurocs(a) for a in en_wv[0:17]]\n",
    "en_vl_aucs_wv = [aurocs(a) for a in en_wv[17:]]"
   ]
  },
  {
   "cell_type": "code",
   "execution_count": 10,
   "metadata": {},
   "outputs": [],
   "source": [
    "ru_1hot_aucs = np.stack([aurocs(a) for a in ru_1hot])\n",
    "en_1hot_aucs = np.stack([aurocs(a) for a in en_1hot])\n",
    "ru_wv_aucs = np.stack([aurocs(a) for a in ru_wv])\n",
    "en_wv_aucs = np.stack([aurocs(a) for a in en_wv])"
   ]
  },
  {
   "cell_type": "code",
   "execution_count": 11,
   "metadata": {},
   "outputs": [],
   "source": [
    "def get_results(total, sham, vl, eoff, eon):\n",
    "    return(\n",
    "        pd.DataFrame(\n",
    "            {\n",
    "                \"trial\": [\n",
    "                    \"all\", \"sham\", \"vl\", \"eoff\", \"eon\"\n",
    "                ],\n",
    "                \"train_mean\": [\n",
    "                    np.mean(total, 0)[0], np.mean(sham, 0)[0],\n",
    "                    np.mean(vl, 0)[0], np.mean(eoff, 0)[0],\n",
    "                    np.mean(eon, 0)[0]\n",
    "                ],\n",
    "                \"train_std\": [\n",
    "                    np.std(total, 0)[0], np.std(sham, 0)[0],\n",
    "                    np.std(vl, 0)[0], np.std(eoff, 0)[0],\n",
    "                    np.std(eon, 0)[0]\n",
    "                ],\n",
    "                \"test_mean\": [\n",
    "                    np.mean(total, 0)[1], np.mean(sham, 0)[1],\n",
    "                    np.mean(vl, 0)[1], np.mean(eoff, 0)[1],\n",
    "                    np.mean(eon, 0)[1]\n",
    "                ],\n",
    "                \"test_std\": [\n",
    "                    np.std(total, 0)[1], np.std(sham, 0)[1],\n",
    "                    np.std(vl, 0)[1], np.std(eoff, 0)[1],\n",
    "                    np.std(eon, 0)[1]\n",
    "                ]\n",
    "            }\n",
    "        )\n",
    "    )"
   ]
  },
  {
   "cell_type": "code",
   "execution_count": 12,
   "metadata": {},
   "outputs": [],
   "source": [
    "ru_1hot_results = get_results(\n",
    "    ru_1hot_aucs, ru_sham_aucs_1hot, ru_vl_aucs_1hot, ru_eoff_aucs_1hot,\n",
    "    ru_eon_aucs_1hot\n",
    ")\n",
    "ru_wv_results = get_results(\n",
    "    ru_wv_aucs, ru_sham_aucs_wv, ru_vl_aucs_wv, ru_eoff_aucs_wv,\n",
    "    ru_eon_aucs_wv\n",
    ")\n",
    "en_1hot_results = get_results(\n",
    "    en_1hot_aucs, en_sham_aucs_1hot, en_vl_aucs_1hot, en_vl_aucs_1hot,\n",
    "    en_sham_aucs_1hot\n",
    ").iloc[0:3]\n",
    "en_wv_results = get_results(\n",
    "    en_wv_aucs, en_sham_aucs_wv, en_vl_aucs_wv, en_vl_aucs_wv,\n",
    "    en_sham_aucs_wv\n",
    ").iloc[0:3]"
   ]
  },
  {
   "cell_type": "code",
   "execution_count": 13,
   "metadata": {},
   "outputs": [
    {
     "data": {
      "text/html": [
       "<div>\n",
       "<style scoped>\n",
       "    .dataframe tbody tr th:only-of-type {\n",
       "        vertical-align: middle;\n",
       "    }\n",
       "\n",
       "    .dataframe tbody tr th {\n",
       "        vertical-align: top;\n",
       "    }\n",
       "\n",
       "    .dataframe thead th {\n",
       "        text-align: right;\n",
       "    }\n",
       "</style>\n",
       "<table border=\"1\" class=\"dataframe\">\n",
       "  <thead>\n",
       "    <tr style=\"text-align: right;\">\n",
       "      <th></th>\n",
       "      <th>trial</th>\n",
       "      <th>train_mean</th>\n",
       "      <th>train_std</th>\n",
       "      <th>test_mean</th>\n",
       "      <th>test_std</th>\n",
       "    </tr>\n",
       "  </thead>\n",
       "  <tbody>\n",
       "    <tr>\n",
       "      <th>0</th>\n",
       "      <td>all</td>\n",
       "      <td>0.499372</td>\n",
       "      <td>0.007430</td>\n",
       "      <td>0.496418</td>\n",
       "      <td>0.018047</td>\n",
       "    </tr>\n",
       "    <tr>\n",
       "      <th>1</th>\n",
       "      <td>sham</td>\n",
       "      <td>0.499064</td>\n",
       "      <td>0.005985</td>\n",
       "      <td>0.499588</td>\n",
       "      <td>0.016411</td>\n",
       "    </tr>\n",
       "    <tr>\n",
       "      <th>2</th>\n",
       "      <td>vl</td>\n",
       "      <td>0.500612</td>\n",
       "      <td>0.002076</td>\n",
       "      <td>0.498390</td>\n",
       "      <td>0.005480</td>\n",
       "    </tr>\n",
       "    <tr>\n",
       "      <th>3</th>\n",
       "      <td>eoff</td>\n",
       "      <td>0.500626</td>\n",
       "      <td>0.002863</td>\n",
       "      <td>0.500278</td>\n",
       "      <td>0.001332</td>\n",
       "    </tr>\n",
       "    <tr>\n",
       "      <th>4</th>\n",
       "      <td>eon</td>\n",
       "      <td>0.497553</td>\n",
       "      <td>0.012083</td>\n",
       "      <td>0.489136</td>\n",
       "      <td>0.028442</td>\n",
       "    </tr>\n",
       "  </tbody>\n",
       "</table>\n",
       "</div>"
      ],
      "text/plain": [
       "  trial  train_mean  train_std  test_mean  test_std\n",
       "0   all    0.499372   0.007430   0.496418  0.018047\n",
       "1  sham    0.499064   0.005985   0.499588  0.016411\n",
       "2    vl    0.500612   0.002076   0.498390  0.005480\n",
       "3  eoff    0.500626   0.002863   0.500278  0.001332\n",
       "4   eon    0.497553   0.012083   0.489136  0.028442"
      ]
     },
     "execution_count": 13,
     "metadata": {},
     "output_type": "execute_result"
    }
   ],
   "source": [
    "ru_1hot_results"
   ]
  },
  {
   "cell_type": "code",
   "execution_count": 14,
   "metadata": {},
   "outputs": [
    {
     "name": "stdout",
     "output_type": "stream",
     "text": [
      "\\begin{tabular}{llrrrr}\n",
      "\\toprule\n",
      "{} & trial &  train\\_mean &  train\\_std &  test\\_mean &  test\\_std \\\\\n",
      "\\midrule\n",
      "0 &   all &    0.499372 &   0.007430 &   0.496418 &  0.018047 \\\\\n",
      "1 &  sham &    0.499064 &   0.005985 &   0.499588 &  0.016411 \\\\\n",
      "2 &    vl &    0.500612 &   0.002076 &   0.498390 &  0.005480 \\\\\n",
      "3 &  eoff &    0.500626 &   0.002863 &   0.500278 &  0.001332 \\\\\n",
      "4 &   eon &    0.497553 &   0.012083 &   0.489136 &  0.028442 \\\\\n",
      "\\bottomrule\n",
      "\\end{tabular}\n",
      "\n"
     ]
    }
   ],
   "source": [
    "print(ru_1hot_results.to_latex())"
   ]
  },
  {
   "cell_type": "code",
   "execution_count": 15,
   "metadata": {},
   "outputs": [
    {
     "data": {
      "text/html": [
       "<div>\n",
       "<style scoped>\n",
       "    .dataframe tbody tr th:only-of-type {\n",
       "        vertical-align: middle;\n",
       "    }\n",
       "\n",
       "    .dataframe tbody tr th {\n",
       "        vertical-align: top;\n",
       "    }\n",
       "\n",
       "    .dataframe thead th {\n",
       "        text-align: right;\n",
       "    }\n",
       "</style>\n",
       "<table border=\"1\" class=\"dataframe\">\n",
       "  <thead>\n",
       "    <tr style=\"text-align: right;\">\n",
       "      <th></th>\n",
       "      <th>trial</th>\n",
       "      <th>train_mean</th>\n",
       "      <th>train_std</th>\n",
       "      <th>test_mean</th>\n",
       "      <th>test_std</th>\n",
       "    </tr>\n",
       "  </thead>\n",
       "  <tbody>\n",
       "    <tr>\n",
       "      <th>0</th>\n",
       "      <td>all</td>\n",
       "      <td>1.0</td>\n",
       "      <td>0.0</td>\n",
       "      <td>0.514260</td>\n",
       "      <td>0.088831</td>\n",
       "    </tr>\n",
       "    <tr>\n",
       "      <th>1</th>\n",
       "      <td>sham</td>\n",
       "      <td>1.0</td>\n",
       "      <td>0.0</td>\n",
       "      <td>0.510418</td>\n",
       "      <td>0.084398</td>\n",
       "    </tr>\n",
       "    <tr>\n",
       "      <th>2</th>\n",
       "      <td>vl</td>\n",
       "      <td>1.0</td>\n",
       "      <td>0.0</td>\n",
       "      <td>0.501361</td>\n",
       "      <td>0.090922</td>\n",
       "    </tr>\n",
       "    <tr>\n",
       "      <th>3</th>\n",
       "      <td>eoff</td>\n",
       "      <td>1.0</td>\n",
       "      <td>0.0</td>\n",
       "      <td>0.539615</td>\n",
       "      <td>0.101536</td>\n",
       "    </tr>\n",
       "    <tr>\n",
       "      <th>4</th>\n",
       "      <td>eon</td>\n",
       "      <td>1.0</td>\n",
       "      <td>0.0</td>\n",
       "      <td>0.507257</td>\n",
       "      <td>0.076000</td>\n",
       "    </tr>\n",
       "  </tbody>\n",
       "</table>\n",
       "</div>"
      ],
      "text/plain": [
       "  trial  train_mean  train_std  test_mean  test_std\n",
       "0   all         1.0        0.0   0.514260  0.088831\n",
       "1  sham         1.0        0.0   0.510418  0.084398\n",
       "2    vl         1.0        0.0   0.501361  0.090922\n",
       "3  eoff         1.0        0.0   0.539615  0.101536\n",
       "4   eon         1.0        0.0   0.507257  0.076000"
      ]
     },
     "execution_count": 15,
     "metadata": {},
     "output_type": "execute_result"
    }
   ],
   "source": [
    "ru_wv_results"
   ]
  },
  {
   "cell_type": "code",
   "execution_count": 16,
   "metadata": {},
   "outputs": [
    {
     "name": "stdout",
     "output_type": "stream",
     "text": [
      "\\begin{tabular}{llrrrr}\n",
      "\\toprule\n",
      "{} & trial &  train\\_mean &  train\\_std &  test\\_mean &  test\\_std \\\\\n",
      "\\midrule\n",
      "0 &   all &         1.0 &        0.0 &   0.514260 &  0.088831 \\\\\n",
      "1 &  sham &         1.0 &        0.0 &   0.510418 &  0.084398 \\\\\n",
      "2 &    vl &         1.0 &        0.0 &   0.501361 &  0.090922 \\\\\n",
      "3 &  eoff &         1.0 &        0.0 &   0.539615 &  0.101536 \\\\\n",
      "4 &   eon &         1.0 &        0.0 &   0.507257 &  0.076000 \\\\\n",
      "\\bottomrule\n",
      "\\end{tabular}\n",
      "\n"
     ]
    }
   ],
   "source": [
    "print(ru_wv_results.to_latex())"
   ]
  },
  {
   "cell_type": "code",
   "execution_count": 17,
   "metadata": {},
   "outputs": [
    {
     "data": {
      "text/html": [
       "<div>\n",
       "<style scoped>\n",
       "    .dataframe tbody tr th:only-of-type {\n",
       "        vertical-align: middle;\n",
       "    }\n",
       "\n",
       "    .dataframe tbody tr th {\n",
       "        vertical-align: top;\n",
       "    }\n",
       "\n",
       "    .dataframe thead th {\n",
       "        text-align: right;\n",
       "    }\n",
       "</style>\n",
       "<table border=\"1\" class=\"dataframe\">\n",
       "  <thead>\n",
       "    <tr style=\"text-align: right;\">\n",
       "      <th></th>\n",
       "      <th>trial</th>\n",
       "      <th>train_mean</th>\n",
       "      <th>train_std</th>\n",
       "      <th>test_mean</th>\n",
       "      <th>test_std</th>\n",
       "    </tr>\n",
       "  </thead>\n",
       "  <tbody>\n",
       "    <tr>\n",
       "      <th>0</th>\n",
       "      <td>all</td>\n",
       "      <td>0.501861</td>\n",
       "      <td>0.008696</td>\n",
       "      <td>0.502409</td>\n",
       "      <td>0.009694</td>\n",
       "    </tr>\n",
       "    <tr>\n",
       "      <th>1</th>\n",
       "      <td>sham</td>\n",
       "      <td>0.503721</td>\n",
       "      <td>0.012014</td>\n",
       "      <td>0.504819</td>\n",
       "      <td>0.013279</td>\n",
       "    </tr>\n",
       "    <tr>\n",
       "      <th>2</th>\n",
       "      <td>vl</td>\n",
       "      <td>0.500000</td>\n",
       "      <td>0.000000</td>\n",
       "      <td>0.500000</td>\n",
       "      <td>0.000000</td>\n",
       "    </tr>\n",
       "  </tbody>\n",
       "</table>\n",
       "</div>"
      ],
      "text/plain": [
       "  trial  train_mean  train_std  test_mean  test_std\n",
       "0   all    0.501861   0.008696   0.502409  0.009694\n",
       "1  sham    0.503721   0.012014   0.504819  0.013279\n",
       "2    vl    0.500000   0.000000   0.500000  0.000000"
      ]
     },
     "execution_count": 17,
     "metadata": {},
     "output_type": "execute_result"
    }
   ],
   "source": [
    "en_1hot_results"
   ]
  },
  {
   "cell_type": "code",
   "execution_count": 19,
   "metadata": {},
   "outputs": [
    {
     "name": "stdout",
     "output_type": "stream",
     "text": [
      "\\begin{tabular}{llrrrr}\n",
      "\\toprule\n",
      "{} & trial &  train\\_mean &  train\\_std &  test\\_mean &  test\\_std \\\\\n",
      "\\midrule\n",
      "0 &   all &    0.501861 &   0.008696 &   0.502409 &  0.009694 \\\\\n",
      "1 &  sham &    0.503721 &   0.012014 &   0.504819 &  0.013279 \\\\\n",
      "2 &    vl &    0.500000 &   0.000000 &   0.500000 &  0.000000 \\\\\n",
      "\\bottomrule\n",
      "\\end{tabular}\n",
      "\n"
     ]
    }
   ],
   "source": [
    "print(en_1hot_results.to_latex())"
   ]
  },
  {
   "cell_type": "code",
   "execution_count": 20,
   "metadata": {},
   "outputs": [
    {
     "data": {
      "text/html": [
       "<div>\n",
       "<style scoped>\n",
       "    .dataframe tbody tr th:only-of-type {\n",
       "        vertical-align: middle;\n",
       "    }\n",
       "\n",
       "    .dataframe tbody tr th {\n",
       "        vertical-align: top;\n",
       "    }\n",
       "\n",
       "    .dataframe thead th {\n",
       "        text-align: right;\n",
       "    }\n",
       "</style>\n",
       "<table border=\"1\" class=\"dataframe\">\n",
       "  <thead>\n",
       "    <tr style=\"text-align: right;\">\n",
       "      <th></th>\n",
       "      <th>trial</th>\n",
       "      <th>train_mean</th>\n",
       "      <th>train_std</th>\n",
       "      <th>test_mean</th>\n",
       "      <th>test_std</th>\n",
       "    </tr>\n",
       "  </thead>\n",
       "  <tbody>\n",
       "    <tr>\n",
       "      <th>0</th>\n",
       "      <td>all</td>\n",
       "      <td>1.0</td>\n",
       "      <td>0.0</td>\n",
       "      <td>0.472489</td>\n",
       "      <td>0.073007</td>\n",
       "    </tr>\n",
       "    <tr>\n",
       "      <th>1</th>\n",
       "      <td>sham</td>\n",
       "      <td>1.0</td>\n",
       "      <td>0.0</td>\n",
       "      <td>0.470875</td>\n",
       "      <td>0.072524</td>\n",
       "    </tr>\n",
       "    <tr>\n",
       "      <th>2</th>\n",
       "      <td>vl</td>\n",
       "      <td>1.0</td>\n",
       "      <td>0.0</td>\n",
       "      <td>0.474104</td>\n",
       "      <td>0.073451</td>\n",
       "    </tr>\n",
       "  </tbody>\n",
       "</table>\n",
       "</div>"
      ],
      "text/plain": [
       "  trial  train_mean  train_std  test_mean  test_std\n",
       "0   all         1.0        0.0   0.472489  0.073007\n",
       "1  sham         1.0        0.0   0.470875  0.072524\n",
       "2    vl         1.0        0.0   0.474104  0.073451"
      ]
     },
     "execution_count": 20,
     "metadata": {},
     "output_type": "execute_result"
    }
   ],
   "source": [
    "en_wv_results"
   ]
  },
  {
   "cell_type": "code",
   "execution_count": 21,
   "metadata": {},
   "outputs": [
    {
     "name": "stdout",
     "output_type": "stream",
     "text": [
      "\\begin{tabular}{llrrrr}\n",
      "\\toprule\n",
      "{} & trial &  train\\_mean &  train\\_std &  test\\_mean &  test\\_std \\\\\n",
      "\\midrule\n",
      "0 &   all &         1.0 &        0.0 &   0.472489 &  0.073007 \\\\\n",
      "1 &  sham &         1.0 &        0.0 &   0.470875 &  0.072524 \\\\\n",
      "2 &    vl &         1.0 &        0.0 &   0.474104 &  0.073451 \\\\\n",
      "\\bottomrule\n",
      "\\end{tabular}\n",
      "\n"
     ]
    }
   ],
   "source": [
    "print(en_wv_results.to_latex())"
   ]
  }
 ],
 "metadata": {
  "kernelspec": {
   "display_name": "Python 3",
   "language": "python",
   "name": "python3"
  },
  "language_info": {
   "codemirror_mode": {
    "name": "ipython",
    "version": 3
   },
   "file_extension": ".py",
   "mimetype": "text/x-python",
   "name": "python",
   "nbconvert_exporter": "python",
   "pygments_lexer": "ipython3",
   "version": "3.7.5"
  }
 },
 "nbformat": 4,
 "nbformat_minor": 2
}
