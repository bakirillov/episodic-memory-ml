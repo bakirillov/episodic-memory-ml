{
 "cells": [
  {
   "cell_type": "code",
   "execution_count": 1,
   "metadata": {},
   "outputs": [],
   "source": [
    "import json\n",
    "from misc import *\n",
    "import numpy as np\n",
    "import pandas as pd\n",
    "import matplotlib.pyplot as plt\n",
    "from matplotlib.patches import Patch"
   ]
  },
  {
   "cell_type": "code",
   "execution_count": 2,
   "metadata": {},
   "outputs": [
    {
     "name": "stderr",
     "output_type": "stream",
     "text": [
      "/home/bakirillov/anaconda3/envs/lapki/lib/python3.7/site-packages/statsmodels/tools/_testing.py:19: FutureWarning: pandas.util.testing is deprecated. Use the functions in the public API at pandas.testing instead.\n",
      "  import pandas.util.testing as tm\n"
     ]
    }
   ],
   "source": [
    "from autoPyTorch import AutoNetRegression"
   ]
  },
  {
   "cell_type": "code",
   "execution_count": 3,
   "metadata": {},
   "outputs": [],
   "source": [
    "from sklearn.model_selection import train_test_split"
   ]
  },
  {
   "cell_type": "markdown",
   "metadata": {},
   "source": [
    "# English"
   ]
  },
  {
   "cell_type": "code",
   "execution_count": 4,
   "metadata": {},
   "outputs": [],
   "source": [
    "data = pd.read_csv(\"english_1hot.csv\")\n",
    "X = data.values[:,1:-1].astype(np.float32)\n",
    "Y = data.values[:,-1:].reshape(-1,).astype(np.float32)\n",
    "train_X, test_X, train_Y, test_Y = train_test_split(X, Y, test_size=0.2)    "
   ]
  },
  {
   "cell_type": "code",
   "execution_count": 5,
   "metadata": {
    "scrolled": true
   },
   "outputs": [
    {
     "name": "stderr",
     "output_type": "stream",
     "text": [
      "/home/bakirillov/.local/lib/python3.7/site-packages/sklearn/utils/deprecation.py:144: FutureWarning: The sklearn.metrics.classification module is  deprecated in version 0.22 and will be removed in version 0.24. The corresponding classes / functions should instead be imported from sklearn.metrics. Anything that cannot be imported from sklearn.metrics is now part of the private API.\n",
      "  warnings.warn(message, FutureWarning)\n"
     ]
    }
   ],
   "source": [
    "auto = AutoNetRegression(\n",
    "    \"tiny_cs\",\n",
    "    log_level='info',\n",
    "    max_runtime=300,\n",
    "    min_budget=30,\n",
    "    max_budget=90\n",
    ")"
   ]
  },
  {
   "cell_type": "code",
   "execution_count": 6,
   "metadata": {
    "scrolled": true
   },
   "outputs": [
    {
     "name": "stderr",
     "output_type": "stream",
     "text": [
      "14:37:59 [AutoNet] Start bohb\n",
      "14:37:59 DISPATCHER: started the 'discover_worker' thread\n",
      "14:37:59 WORKER: start listening for jobs\n",
      "14:37:59 DISPATCHER: started the 'job_runner' thread\n",
      "14:37:59 DISPATCHER: Pyro daemon running on 192.168.1.222:42459\n",
      "14:37:59 DISPATCHER: discovered new worker, hpbandster.run_0.worker.bakirillov-Alienware-17-R5.19110.-1140253795501888\n",
      "14:37:59 HBMASTER: adjusted queue size to (0, 1)\n",
      "14:37:59 DISPATCHER: A new worker triggered discover_worker\n",
      "14:37:59 HBMASTER: starting run at 1585222679.2928395\n",
      "14:37:59 WORKER: start processing job (0, 0, 0)\n",
      "14:37:59 Fit optimization pipeline\n",
      "14:37:59 [AutoNet] No validation set given and either no cross validator given or budget too low for CV. Continue by splitting 0.1 of training data.\n",
      "14:37:59 [AutoNet] CV split 0 of 1\n",
      "14:37:59 Reduced initial budget 29.913280248641968 to cv budget 29.91250777244568 compensate for 0.0007724761962890625\n",
      "14:38:19 Finished train with budget 29.91250777244568: Preprocessing took 2s, Training took 17s, Wrap up took 0s. Total time consumption in s: 19\n",
      "14:38:19 [AutoNet] Done with current split!\n",
      "14:38:19 Aggregate the results across the splits\n",
      "14:38:19 Process 1 additional result(s)\n",
      "14:38:19 Training ['shapedresnet'] with budget 30.0 resulted in optimize-metric-loss: 0.21352462470531464 took 20.29488182067871 seconds\n",
      "14:38:19 WORKER: registered result for job (0, 0, 0) with dispatcher\n",
      "14:38:19 WORKER: start processing job (0, 0, 1)\n",
      "14:38:19 Fit optimization pipeline\n",
      "14:38:19 [AutoNet] No validation set given and either no cross validator given or budget too low for CV. Continue by splitting 0.1 of training data.\n",
      "14:38:19 [AutoNet] CV split 0 of 1\n",
      "14:38:19 Reduced initial budget 29.88710331916809 to cv budget 29.886349201202393 compensate for 0.0007541179656982422\n",
      "14:38:39 Finished train with budget 29.886349201202393: Preprocessing took 1s, Training took 18s, Wrap up took 0s. Total time consumption in s: 19\n",
      "14:38:39 [AutoNet] Done with current split!\n",
      "14:38:39 Aggregate the results across the splits\n",
      "14:38:39 Process 1 additional result(s)\n",
      "14:38:39 Training ['shapedresnet'] with budget 30.0 resulted in optimize-metric-loss: 0.16133902966976166 took 20.297292709350586 seconds\n",
      "14:38:39 WORKER: registered result for job (0, 0, 1) with dispatcher\n",
      "14:38:39 WORKER: start processing job (0, 0, 2)\n",
      "14:38:39 Fit optimization pipeline\n",
      "14:38:40 [AutoNet] No validation set given and either no cross validator given or budget too low for CV. Continue by splitting 0.1 of training data.\n",
      "14:38:40 [AutoNet] CV split 0 of 1\n",
      "14:38:40 Reduced initial budget 29.882900714874268 to cv budget 29.882174491882324 compensate for 0.0007262229919433594\n",
      "14:38:59 Finished train with budget 29.882174491882324: Preprocessing took 1s, Training took 17s, Wrap up took 0s. Total time consumption in s: 19\n",
      "14:39:00 [AutoNet] Done with current split!\n",
      "14:39:00 Aggregate the results across the splits\n",
      "14:39:00 Process 1 additional result(s)\n",
      "14:39:00 Training ['shapedresnet'] with budget 30.0 resulted in optimize-metric-loss: 0.13709695637226105 took 20.33708119392395 seconds\n",
      "14:39:00 WORKER: registered result for job (0, 0, 2) with dispatcher\n",
      "14:39:00 WORKER: start processing job (0, 0, 2)\n",
      "14:39:00 Fit optimization pipeline\n",
      "14:39:00 [AutoNet] No validation set given and either no cross validator given or budget too low for CV. Continue by splitting 0.1 of training data.\n",
      "14:39:00 [AutoNet] CV split 0 of 1\n",
      "14:39:00 Reduced initial budget 89.90976929664612 to cv budget 89.90917420387268 compensate for 0.0005950927734375\n",
      "14:40:20 Finished train with budget 89.90917420387268: Preprocessing took 1s, Training took 78s, Wrap up took 0s. Total time consumption in s: 79\n",
      "14:40:20 [AutoNet] Done with current split!\n",
      "14:40:20 Aggregate the results across the splits\n",
      "14:40:20 Process 1 additional result(s)\n",
      "14:40:20 Training ['shapedresnet'] with budget 90.0 resulted in optimize-metric-loss: 0.09865330904722214 took 80.25842761993408 seconds\n",
      "14:40:20 WORKER: registered result for job (0, 0, 2) with dispatcher\n",
      "14:40:20 WORKER: start processing job (1, 0, 0)\n",
      "14:40:20 Fit optimization pipeline\n",
      "14:40:20 [AutoNet] No validation set given and either no cross validator given or budget too low for CV. Continue by splitting 0.1 of training data.\n",
      "14:40:20 [AutoNet] CV split 0 of 1\n",
      "14:40:20 Reduced initial budget 89.89382982254028 to cv budget 89.89315724372864 compensate for 0.0006725788116455078\n",
      "14:41:40 Finished train with budget 89.89315724372864: Preprocessing took 1s, Training took 78s, Wrap up took 0s. Total time consumption in s: 79\n",
      "14:41:40 [AutoNet] Done with current split!\n",
      "14:41:40 Aggregate the results across the splits\n",
      "14:41:40 Process 1 additional result(s)\n",
      "14:41:40 Training ['shapedresnet'] with budget 90.0 resulted in optimize-metric-loss: 0.20839495956897736 took 80.2593731880188 seconds\n",
      "14:41:40 WORKER: registered result for job (1, 0, 0) with dispatcher\n",
      "14:41:40 HBMASTER: Timelimit reached: wait for remaining 0 jobs\n",
      "14:41:40 DISPATCHER: Dispatcher shutting down\n",
      "14:41:40 DISPATCHER: shut down complete\n",
      "14:41:41 Start autonet with config:\n",
      "{'embeddings': ['none'], 'lr_scheduler': ['cosine_annealing'], 'networks': ['shapedresnet'], 'preprocessors': ['truncated_svd'], 'batch_loss_computation_techniques': ['standard'], 'imputation_strategies': ['median'], 'initialization_methods': ['default'], 'loss_modules': ['l1_loss'], 'normalization_strategies': ['standardize'], 'optimizer': ['sgd'], 'hyperparameter_search_space_updates': <autoPyTorch.utils.hyperparameter_search_space_update.HyperparameterSearchSpaceUpdates object at 0x7f8f191cdbd0>, 'log_level': 'info', 'max_runtime': 300, 'min_budget': 30, 'max_budget': 90, 'validation_split': 0.1, 'result_logger_dir': '.', 'categorical_features': None, 'dataset_name': None, 'run_id': '0', 'task_id': -1, 'algorithm': 'bohb', 'budget_type': 'time', 'eta': 3, 'min_workers': 1, 'working_dir': '.', 'network_interface_name': 'wlp69s0', 'memory_limit_mb': 1000000, 'use_tensorboard_logger': False, 'run_worker_on_master_node': True, 'use_pynisher': True, 'refit_validation_split': 0.0, 'cross_validator': 'none', 'cross_validator_args': {}, 'min_budget_for_cv': 0, 'shuffle': True, 'over_sampling_methods': ['none'], 'under_sampling_methods': ['none'], 'target_size_strategies': ['none'], 'final_activation': 'none', 'initializer': 'simple_initializer', 'additional_logs': [], 'optimize_metric': 'mean_distance', 'additional_metrics': [], 'cuda': True, 'torch_num_threads': 1, 'full_eval_each_epoch': False, 'best_over_epochs': False, 'early_stopping_patience': inf, 'early_stopping_reset_parameters': False, 'random_seed': 1003861853, 'num_iterations': inf, 'cv_splits': 1, 'increase_number_of_trained_datasets': False}\n",
      "14:41:41 Start Refitting\n",
      "14:41:41 [AutoNet] No validation set given and either no cross validator given or budget too low for CV. Continue by splitting 0 of training data.\n",
      "14:41:41 [AutoNet] CV split 0 of 1\n",
      "14:41:41 Reduced initial budget 89.96369576454163 to cv budget 89.9632670879364 compensate for 0.0004286766052246094\n",
      "14:43:01 Finished train with budget 89.9632670879364: Preprocessing took 1s, Training took 78s, Wrap up took 0s. Total time consumption in s: 80\n",
      "14:43:01 [AutoNet] Done with current split!\n",
      "14:43:01 Aggregate the results across the splits\n",
      "14:43:01 Process 1 additional result(s)\n",
      "14:43:01 Done Refitting\n"
     ]
    },
    {
     "data": {
      "text/plain": [
       "{'optimized_hyperparameter_config': {'CreateDataLoader:batch_size': 125,\n",
       "  'Imputation:strategy': 'median',\n",
       "  'InitializationSelector:initialization_method': 'default',\n",
       "  'InitializationSelector:initializer:initialize_bias': 'No',\n",
       "  'LearningrateSchedulerSelector:lr_scheduler': 'cosine_annealing',\n",
       "  'LossModuleSelector:loss_module': 'l1_loss',\n",
       "  'NetworkSelector:network': 'shapedresnet',\n",
       "  'NormalizationStrategySelector:normalization_strategy': 'standardize',\n",
       "  'OptimizerSelector:optimizer': 'sgd',\n",
       "  'PreprocessorSelector:preprocessor': 'truncated_svd',\n",
       "  'ResamplingStrategySelector:over_sampling_method': 'none',\n",
       "  'ResamplingStrategySelector:target_size_strategy': 'none',\n",
       "  'ResamplingStrategySelector:under_sampling_method': 'none',\n",
       "  'TrainNode:batch_loss_computation_technique': 'standard',\n",
       "  'LearningrateSchedulerSelector:cosine_annealing:T_max': 10,\n",
       "  'LearningrateSchedulerSelector:cosine_annealing:T_mult': 2,\n",
       "  'NetworkSelector:shapedresnet:activation': 'relu',\n",
       "  'NetworkSelector:shapedresnet:blocks_per_group': 4,\n",
       "  'NetworkSelector:shapedresnet:max_units': 506,\n",
       "  'NetworkSelector:shapedresnet:num_groups': 8,\n",
       "  'NetworkSelector:shapedresnet:resnet_shape': 'brick',\n",
       "  'NetworkSelector:shapedresnet:use_dropout': 0,\n",
       "  'NetworkSelector:shapedresnet:use_shake_drop': 0,\n",
       "  'NetworkSelector:shapedresnet:use_shake_shake': 0,\n",
       "  'OptimizerSelector:sgd:learning_rate': 0.01063481685137284,\n",
       "  'OptimizerSelector:sgd:momentum': 0.11338329919182308,\n",
       "  'OptimizerSelector:sgd:weight_decay': 0.010437189045230973,\n",
       "  'PreprocessorSelector:truncated_svd:target_dim': 100},\n",
       " 'budget': 90.0,\n",
       " 'loss': 0.09865330904722214,\n",
       " 'info': {'loss': 0.022091828286647797,\n",
       "  'train_mean_distance': 0.022091824561357498,\n",
       "  'lr_scheduler_converged': 1.0,\n",
       "  'lr': 6.406324733948299e-08,\n",
       "  'val_mean_distance': 0.09865330904722214}}"
      ]
     },
     "execution_count": 6,
     "metadata": {},
     "output_type": "execute_result"
    }
   ],
   "source": [
    "auto.fit(train_X, train_Y, validation_split=0.1)"
   ]
  },
  {
   "cell_type": "code",
   "execution_count": 8,
   "metadata": {},
   "outputs": [],
   "source": [
    "train_Yhat = auto.predict(train_X)"
   ]
  },
  {
   "cell_type": "code",
   "execution_count": 10,
   "metadata": {},
   "outputs": [],
   "source": [
    "test_Yhat = auto.predict(test_X)"
   ]
  },
  {
   "cell_type": "code",
   "execution_count": 13,
   "metadata": {},
   "outputs": [
    {
     "data": {
      "text/plain": [
       "<matplotlib.collections.PathCollection at 0x7f8ea89b9410>"
      ]
     },
     "execution_count": 13,
     "metadata": {},
     "output_type": "execute_result"
    },
    {
     "data": {
      "image/png": "[encoded data removed]",
      "text/plain": [
       "<Figure size 432x288 with 1 Axes>"
      ]
     },
     "metadata": {
      "needs_background": "light"
     },
     "output_type": "display_data"
    }
   ],
   "source": [
    "plt.scatter(train_Y, train_Yhat)\n",
    "plt.scatter(test_Y, test_Yhat)"
   ]
  },
  {
   "cell_type": "code",
   "execution_count": 14,
   "metadata": {},
   "outputs": [
    {
     "data": {
      "text/plain": [
       "(SpearmanrResult(correlation=0.9926749881998753, pvalue=2.3356463300629205e-176),\n",
       " SpearmanrResult(correlation=0.03790913034729322, pvalue=0.7959389521535585))"
      ]
     },
     "execution_count": 14,
     "metadata": {},
     "output_type": "execute_result"
    }
   ],
   "source": [
    "spearmanr(train_Y, train_Yhat), spearmanr(test_Y, test_Yhat)"
   ]
  }
 ],
 "metadata": {
  "kernelspec": {
   "display_name": "Python 3",
   "language": "python",
   "name": "python3"
  },
  "language_info": {
   "codemirror_mode": {
    "name": "ipython",
    "version": 3
   },
   "file_extension": ".py",
   "mimetype": "text/x-python",
   "name": "python",
   "nbconvert_exporter": "python",
   "pygments_lexer": "ipython3",
   "version": "3.7.5"
  }
 },
 "nbformat": 4,
 "nbformat_minor": 2
}
