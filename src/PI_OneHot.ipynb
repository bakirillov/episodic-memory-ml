{
 "cells": [
  {
   "cell_type": "code",
   "execution_count": 4,
   "metadata": {},
   "outputs": [],
   "source": [
    "import json\n",
    "from misc import *\n",
    "import numpy as np\n",
    "import pandas as pd\n",
    "import matplotlib.pyplot as plt\n",
    "from matplotlib.patches import Patch"
   ]
  },
  {
   "cell_type": "code",
   "execution_count": 5,
   "metadata": {},
   "outputs": [],
   "source": [
    "from autoPyTorch import AutoNetRegression"
   ]
  },
  {
   "cell_type": "code",
   "execution_count": 6,
   "metadata": {},
   "outputs": [],
   "source": [
    "from sklearn.model_selection import train_test_split"
   ]
  },
  {
   "cell_type": "markdown",
   "metadata": {},
   "source": [
    "# English"
   ]
  },
  {
   "cell_type": "code",
   "execution_count": 7,
   "metadata": {},
   "outputs": [],
   "source": [
    "data = pd.read_csv(\"english_1hot.csv\")\n",
    "X = data.values[:,1:-1].astype(np.float32)\n",
    "Y = data.values[:,-1:].reshape(-1,).astype(np.float32)\n",
    "train_X, test_X, train_Y, test_Y = train_test_split(X, Y, test_size=0.2)    "
   ]
  },
  {
   "cell_type": "code",
   "execution_count": 5,
   "metadata": {
    "scrolled": true
   },
   "outputs": [
    {
     "name": "stderr",
     "output_type": "stream",
     "text": [
      "/home/bakirillov/.local/lib/python3.7/site-packages/sklearn/utils/deprecation.py:144: FutureWarning: The sklearn.metrics.classification module is  deprecated in version 0.22 and will be removed in version 0.24. The corresponding classes / functions should instead be imported from sklearn.metrics. Anything that cannot be imported from sklearn.metrics is now part of the private API.\n",
      "  warnings.warn(message, FutureWarning)\n"
     ]
    }
   ],
   "source": [
    "auto = AutoNetRegression(\n",
    "    \"tiny_cs\",\n",
    "    log_level='info',\n",
    "    max_runtime=300,\n",
    "    min_budget=30,\n",
    "    max_budget=90\n",
    ")"
   ]
  },
  {
   "cell_type": "code",
   "execution_count": 6,
   "metadata": {
    "scrolled": true
   },
   "outputs": [
    {
     "name": "stderr",
     "output_type": "stream",
     "text": [
      "11:12:16 [AutoNet] Start bohb\n",
      "11:12:16 DISPATCHER: started the 'discover_worker' thread\n",
      "11:12:16 WORKER: start listening for jobs\n",
      "11:12:16 DISPATCHER: started the 'job_runner' thread\n",
      "11:12:16 DISPATCHER: Pyro daemon running on 192.168.1.222:44639\n",
      "11:12:16 DISPATCHER: discovered new worker, hpbandster.run_0.worker.bakirillov-Alienware-17-R5.6559.-1139986497099584\n",
      "11:12:16 HBMASTER: adjusted queue size to (0, 1)\n",
      "11:12:16 DISPATCHER: A new worker triggered discover_worker\n",
      "11:12:16 HBMASTER: starting run at 1586074336.2860525\n",
      "11:12:16 WORKER: start processing job (0, 0, 0)\n",
      "11:12:16 Fit optimization pipeline\n",
      "11:12:16 [AutoNet] No validation set given and either no cross validator given or budget too low for CV. Continue by splitting 0.1 of training data.\n",
      "11:12:16 [AutoNet] CV split 0 of 1\n",
      "11:12:16 Reduced initial budget 29.868019819259644 to cv budget 29.86724877357483 compensate for 0.0007710456848144531\n",
      "11:12:36 Finished train with budget 29.86724877357483: Preprocessing took 2s, Training took 17s, Wrap up took 0s. Total time consumption in s: 19\n",
      "11:12:36 [AutoNet] Done with current split!\n",
      "11:12:36 Aggregate the results across the splits\n",
      "11:12:36 Process 1 additional result(s)\n",
      "11:12:36 Training ['shapedresnet'] with budget 30.0 resulted in optimize-metric-loss: 0.12856194376945496 took 20.324705362319946 seconds\n",
      "11:12:36 WORKER: registered result for job (0, 0, 0) with dispatcher\n",
      "11:12:36 WORKER: start processing job (0, 0, 1)\n",
      "11:12:36 Fit optimization pipeline\n",
      "11:12:36 [AutoNet] No validation set given and either no cross validator given or budget too low for CV. Continue by splitting 0.1 of training data.\n",
      "11:12:36 [AutoNet] CV split 0 of 1\n",
      "11:12:36 Reduced initial budget 29.894752025604248 to cv budget 29.894097089767456 compensate for 0.0006549358367919922\n",
      "11:12:56 Finished train with budget 29.894097089767456: Preprocessing took 1s, Training took 18s, Wrap up took 0s. Total time consumption in s: 19\n",
      "11:12:56 [AutoNet] Done with current split!\n",
      "11:12:56 Aggregate the results across the splits\n",
      "11:12:56 Process 1 additional result(s)\n",
      "11:12:56 Training ['shapedresnet'] with budget 30.0 resulted in optimize-metric-loss: 0.13581398129463196 took 20.268714904785156 seconds\n",
      "11:12:56 WORKER: registered result for job (0, 0, 1) with dispatcher\n",
      "11:12:56 WORKER: start processing job (0, 0, 2)\n",
      "11:12:56 Fit optimization pipeline\n",
      "11:12:56 [AutoNet] No validation set given and either no cross validator given or budget too low for CV. Continue by splitting 0.1 of training data.\n",
      "11:12:56 [AutoNet] CV split 0 of 1\n",
      "11:12:56 Reduced initial budget 29.903151988983154 to cv budget 29.90249991416931 compensate for 0.0006520748138427734\n",
      "11:13:16 Finished train with budget 29.90249991416931: Preprocessing took 1s, Training took 18s, Wrap up took 0s. Total time consumption in s: 19\n",
      "11:13:16 [AutoNet] Done with current split!\n",
      "11:13:16 Aggregate the results across the splits\n",
      "11:13:16 Process 1 additional result(s)\n",
      "11:13:17 Training ['shapedresnet'] with budget 30.0 resulted in optimize-metric-loss: 0.17517748475074768 took 20.34743046760559 seconds\n",
      "11:13:17 WORKER: registered result for job (0, 0, 2) with dispatcher\n",
      "11:13:17 WORKER: start processing job (0, 0, 0)\n",
      "11:13:17 Fit optimization pipeline\n",
      "11:13:17 [AutoNet] No validation set given and either no cross validator given or budget too low for CV. Continue by splitting 0.1 of training data.\n",
      "11:13:17 [AutoNet] CV split 0 of 1\n",
      "11:13:17 Reduced initial budget 89.85647964477539 to cv budget 89.85579085350037 compensate for 0.0006887912750244141\n",
      "11:14:37 Finished train with budget 89.85579085350037: Preprocessing took 1s, Training took 78s, Wrap up took 0s. Total time consumption in s: 79\n",
      "11:14:37 [AutoNet] Done with current split!\n",
      "11:14:37 Aggregate the results across the splits\n",
      "11:14:37 Process 1 additional result(s)\n",
      "11:14:37 Training ['shapedresnet'] with budget 90.0 resulted in optimize-metric-loss: 0.13158203661441803 took 80.2589418888092 seconds\n",
      "11:14:37 WORKER: registered result for job (0, 0, 0) with dispatcher\n",
      "11:14:37 WORKER: start processing job (1, 0, 0)\n",
      "11:14:37 Fit optimization pipeline\n",
      "11:14:37 [AutoNet] No validation set given and either no cross validator given or budget too low for CV. Continue by splitting 0.1 of training data.\n",
      "11:14:37 [AutoNet] CV split 0 of 1\n",
      "11:14:37 Reduced initial budget 89.87063384056091 to cv budget 89.86994671821594 compensate for 0.0006871223449707031\n",
      "11:15:57 Finished train with budget 89.86994671821594: Preprocessing took 1s, Training took 78s, Wrap up took 0s. Total time consumption in s: 79\n",
      "11:15:57 [AutoNet] Done with current split!\n",
      "11:15:57 Aggregate the results across the splits\n",
      "11:15:57 Process 1 additional result(s)\n",
      "11:15:57 Training ['shapedresnet'] with budget 90.0 resulted in optimize-metric-loss: 0.17663724720478058 took 80.2475917339325 seconds\n",
      "11:15:57 WORKER: registered result for job (1, 0, 0) with dispatcher\n",
      "11:15:57 HBMASTER: Timelimit reached: wait for remaining 0 jobs\n",
      "11:15:57 DISPATCHER: Dispatcher shutting down\n",
      "11:15:57 DISPATCHER: shut down complete\n",
      "11:15:58 Start autonet with config:\n",
      "{'embeddings': ['none'], 'lr_scheduler': ['cosine_annealing'], 'networks': ['shapedresnet'], 'preprocessors': ['truncated_svd'], 'batch_loss_computation_techniques': ['standard'], 'imputation_strategies': ['median'], 'initialization_methods': ['default'], 'loss_modules': ['l1_loss'], 'normalization_strategies': ['standardize'], 'optimizer': ['sgd'], 'hyperparameter_search_space_updates': <autoPyTorch.utils.hyperparameter_search_space_update.HyperparameterSearchSpaceUpdates object at 0x7f507f244450>, 'log_level': 'info', 'max_runtime': 300, 'min_budget': 30, 'max_budget': 90, 'validation_split': 0.1, 'result_logger_dir': '.', 'categorical_features': None, 'dataset_name': None, 'run_id': '0', 'task_id': -1, 'algorithm': 'bohb', 'budget_type': 'time', 'eta': 3, 'min_workers': 1, 'working_dir': '.', 'network_interface_name': 'wlp69s0', 'memory_limit_mb': 1000000, 'use_tensorboard_logger': False, 'run_worker_on_master_node': True, 'use_pynisher': True, 'refit_validation_split': 0.0, 'cross_validator': 'none', 'cross_validator_args': {}, 'min_budget_for_cv': 0, 'shuffle': True, 'over_sampling_methods': ['none'], 'under_sampling_methods': ['none'], 'target_size_strategies': ['none'], 'final_activation': 'none', 'initializer': 'simple_initializer', 'additional_logs': [], 'optimize_metric': 'mean_distance', 'additional_metrics': [], 'cuda': True, 'torch_num_threads': 1, 'full_eval_each_epoch': False, 'best_over_epochs': False, 'early_stopping_patience': inf, 'early_stopping_reset_parameters': False, 'random_seed': 49382992, 'num_iterations': inf, 'cv_splits': 1, 'increase_number_of_trained_datasets': False}\n",
      "11:15:58 Start Refitting\n",
      "11:15:58 [AutoNet] No validation set given and either no cross validator given or budget too low for CV. Continue by splitting 0 of training data.\n",
      "11:15:58 [AutoNet] CV split 0 of 1\n",
      "11:15:58 Reduced initial budget 29.961982011795044 to cv budget 29.96155548095703 compensate for 0.0004265308380126953\n",
      "11:16:18 Finished train with budget 29.96155548095703: Preprocessing took 1s, Training took 18s, Wrap up took 0s. Total time consumption in s: 19\n",
      "11:16:18 [AutoNet] Done with current split!\n",
      "11:16:18 Aggregate the results across the splits\n",
      "11:16:18 Process 1 additional result(s)\n",
      "11:16:18 Done Refitting\n"
     ]
    },
    {
     "data": {
      "text/plain": [
       "{'optimized_hyperparameter_config': {'CreateDataLoader:batch_size': 125,\n",
       "  'Imputation:strategy': 'median',\n",
       "  'InitializationSelector:initialization_method': 'default',\n",
       "  'InitializationSelector:initializer:initialize_bias': 'No',\n",
       "  'LearningrateSchedulerSelector:lr_scheduler': 'cosine_annealing',\n",
       "  'LossModuleSelector:loss_module': 'l1_loss',\n",
       "  'NetworkSelector:network': 'shapedresnet',\n",
       "  'NormalizationStrategySelector:normalization_strategy': 'standardize',\n",
       "  'OptimizerSelector:optimizer': 'sgd',\n",
       "  'PreprocessorSelector:preprocessor': 'truncated_svd',\n",
       "  'ResamplingStrategySelector:over_sampling_method': 'none',\n",
       "  'ResamplingStrategySelector:target_size_strategy': 'none',\n",
       "  'ResamplingStrategySelector:under_sampling_method': 'none',\n",
       "  'TrainNode:batch_loss_computation_technique': 'standard',\n",
       "  'LearningrateSchedulerSelector:cosine_annealing:T_max': 10,\n",
       "  'LearningrateSchedulerSelector:cosine_annealing:T_mult': 2,\n",
       "  'NetworkSelector:shapedresnet:activation': 'relu',\n",
       "  'NetworkSelector:shapedresnet:blocks_per_group': 1,\n",
       "  'NetworkSelector:shapedresnet:max_units': 87,\n",
       "  'NetworkSelector:shapedresnet:num_groups': 5,\n",
       "  'NetworkSelector:shapedresnet:resnet_shape': 'brick',\n",
       "  'NetworkSelector:shapedresnet:use_dropout': 0,\n",
       "  'NetworkSelector:shapedresnet:use_shake_drop': 0,\n",
       "  'NetworkSelector:shapedresnet:use_shake_shake': 0,\n",
       "  'OptimizerSelector:sgd:learning_rate': 0.042938824442170405,\n",
       "  'OptimizerSelector:sgd:momentum': 0.19681526921680031,\n",
       "  'OptimizerSelector:sgd:weight_decay': 0.027397013800093132,\n",
       "  'PreprocessorSelector:truncated_svd:target_dim': 100},\n",
       " 'budget': 30.0,\n",
       " 'loss': 0.12856194376945496,\n",
       " 'info': {'loss': 0.004127677995711565,\n",
       "  'train_mean_distance': 0.004127677530050278,\n",
       "  'lr_scheduler_converged': 1.0,\n",
       "  'lr': 6.466506926861662e-08,\n",
       "  'val_mean_distance': 0.12856194376945496}}"
      ]
     },
     "execution_count": 6,
     "metadata": {},
     "output_type": "execute_result"
    }
   ],
   "source": [
    "auto.fit(train_X, train_Y, validation_split=0.1)"
   ]
  },
  {
   "cell_type": "code",
   "execution_count": 8,
   "metadata": {},
   "outputs": [],
   "source": [
    "train_Yhat = auto.predict(train_X)"
   ]
  },
  {
   "cell_type": "code",
   "execution_count": 9,
   "metadata": {},
   "outputs": [],
   "source": [
    "test_Yhat = auto.predict(test_X)"
   ]
  },
  {
   "cell_type": "code",
   "execution_count": 10,
   "metadata": {},
   "outputs": [
    {
     "data": {
      "text/plain": [
       "<matplotlib.collections.PathCollection at 0x7f3e25449190>"
      ]
     },
     "execution_count": 10,
     "metadata": {},
     "output_type": "execute_result"
    },
    {
     "data": {
      "image/png": "[encoded data removed]",
      "text/plain": [
       "<Figure size 432x288 with 1 Axes>"
      ]
     },
     "metadata": {
      "needs_background": "light"
     },
     "output_type": "display_data"
    }
   ],
   "source": [
    "plt.scatter(train_Y, train_Yhat)\n",
    "plt.scatter(test_Y, test_Yhat)"
   ]
  },
  {
   "cell_type": "code",
   "execution_count": 11,
   "metadata": {},
   "outputs": [
    {
     "data": {
      "text/plain": [
       "(SpearmanrResult(correlation=0.7616791375022897, pvalue=1.180431424628274e-37),\n",
       " SpearmanrResult(correlation=0.8880781718487524, pvalue=1.7731786121138215e-17))"
      ]
     },
     "execution_count": 11,
     "metadata": {},
     "output_type": "execute_result"
    }
   ],
   "source": [
    "spearmanr(train_Y, train_Yhat), spearmanr(test_Y, test_Yhat)"
   ]
  },
  {
   "cell_type": "code",
   "execution_count": 1,
   "metadata": {},
   "outputs": [],
   "source": [
    "import torch"
   ]
  },
  {
   "cell_type": "code",
   "execution_count": 22,
   "metadata": {},
   "outputs": [],
   "source": [
    "torch.save(auto, \"auto.ptch\")"
   ]
  },
  {
   "cell_type": "code",
   "execution_count": 3,
   "metadata": {},
   "outputs": [
    {
     "name": "stderr",
     "output_type": "stream",
     "text": [
      "/home/bakirillov/anaconda3/envs/lapki/lib/python3.7/site-packages/statsmodels/tools/_testing.py:19: FutureWarning: pandas.util.testing is deprecated. Use the functions in the public API at pandas.testing instead.\n",
      "  import pandas.util.testing as tm\n",
      "/home/bakirillov/.local/lib/python3.7/site-packages/sklearn/utils/deprecation.py:144: FutureWarning: The sklearn.metrics.classification module is  deprecated in version 0.22 and will be removed in version 0.24. The corresponding classes / functions should instead be imported from sklearn.metrics. Anything that cannot be imported from sklearn.metrics is now part of the private API.\n",
      "  warnings.warn(message, FutureWarning)\n"
     ]
    }
   ],
   "source": [
    "auto = torch.load(\"auto.ptch\")"
   ]
  },
  {
   "cell_type": "code",
   "execution_count": null,
   "metadata": {},
   "outputs": [],
   "source": []
  }
 ],
 "metadata": {
  "kernelspec": {
   "display_name": "Python 3",
   "language": "python",
   "name": "python3"
  },
  "language_info": {
   "codemirror_mode": {
    "name": "ipython",
    "version": 3
   },
   "file_extension": ".py",
   "mimetype": "text/x-python",
   "name": "python",
   "nbconvert_exporter": "python",
   "pygments_lexer": "ipython3",
   "version": "3.7.5"
  }
 },
 "nbformat": 4,
 "nbformat_minor": 2
}
